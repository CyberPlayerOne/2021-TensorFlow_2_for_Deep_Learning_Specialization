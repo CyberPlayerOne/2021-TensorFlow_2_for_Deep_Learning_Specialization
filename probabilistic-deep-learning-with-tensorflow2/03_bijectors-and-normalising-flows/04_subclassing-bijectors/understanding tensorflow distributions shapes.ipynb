{
 "cells": [
  {
   "cell_type": "raw",
   "source": [
    "i#%%\n",
    "mport tensorflow as tf\n",
    "import tensorflow_probability as tfp\n",
    "tfd = tfp.distributions\n",
    "\n",
    "gpus = tf.config.list_physical_devices('GPU')\n",
    "tf.config.experimental.set_memory_growth(gpus[0], True)"
   ],
   "metadata": {
    "collapsed": false,
    "pycharm": {
     "name": ""
    }
   }
  },
  {
   "cell_type": "code",
   "execution_count": 3,
   "outputs": [],
   "source": [
    "def describe_distributions(distributions):\n",
    "    print('\\n'.join([str(d) for d in distributions]))"
   ],
   "metadata": {
    "collapsed": false,
    "pycharm": {
     "name": "#%%\n"
    }
   }
  },
  {
   "cell_type": "code",
   "execution_count": 4,
   "outputs": [],
   "source": [
    "poisson_distributions = [\n",
    "\ttfd.Poisson(rate=1., name='One Poisson Scalar Batch'),\n",
    "\ttfd.Poisson(rate=[1., 10., 100.], name='Three Poissons'),\n",
    "\ttfd.Poisson(rate=[[1., 10., 100.,], [2., 20., 200.]],name='Two-by-Three Poissons'),\n",
    "\ttfd.Poisson(rate=[1.], name='One Poisson Vector Batch'),\n",
    "\ttfd.Poisson(rate=[[1.]], name='One Poisson Expanded Batch')\n",
    "\t]"
   ],
   "metadata": {
    "collapsed": false,
    "pycharm": {
     "name": "#%%\n"
    }
   }
  },
  {
   "cell_type": "code",
   "execution_count": 5,
   "outputs": [
    {
     "name": "stdout",
     "output_type": "stream",
     "text": [
      "tfp.distributions.Poisson(\"One_Poisson_Scalar_Batch\", batch_shape=[], event_shape=[], dtype=float32)\n",
      "tfp.distributions.Poisson(\"Three_Poissons\", batch_shape=[3], event_shape=[], dtype=float32)\n",
      "tfp.distributions.Poisson(\"Two_by_Three_Poissons\", batch_shape=[2, 3], event_shape=[], dtype=float32)\n",
      "tfp.distributions.Poisson(\"One_Poisson_Vector_Batch\", batch_shape=[1], event_shape=[], dtype=float32)\n",
      "tfp.distributions.Poisson(\"One_Poisson_Expanded_Batch\", batch_shape=[1, 1], event_shape=[], dtype=float32)\n"
     ]
    }
   ],
   "source": [
    "describe_distributions(poisson_distributions)"
   ],
   "metadata": {
    "collapsed": false,
    "pycharm": {
     "name": "#%%\n"
    }
   }
  },
  {
   "cell_type": "code",
   "execution_count": 19,
   "outputs": [],
   "source": [
    "normal_distributions = [\n",
    "\ttfd.Normal(loc=0., scale=1., name='Standard'),\n",
    "\ttfd.Normal(loc=[0.], scale=1., name='Standard Vector Batch'),\n",
    "\ttfd.Normal(loc=[0., 1., 2., 3.], scale=1., name='Different Locs'),\n",
    "\ttfd.Normal(loc=[0., 1., 2., 3.], scale=[[1.], [5.]],  #自动识别有８个组合，所以是２行４列\n",
    "\tname='Broadcasting Scale'),\n",
    "    # tfd.Normal(loc=[0., 1., 2., 3.], scale=[1., 5.],\n",
    "\t# name='Broadcasting Scale'),  # ValueError: Arguments `loc` and `scale` must have compatible shapes; loc.shape=(4,), scale.shape=(2,).\n",
    "    tfd.Normal(loc=[0., 1., 2., 3.], scale=[1., 5., 0, 0],\n",
    "\tname='Broadcasting Scale'),\n",
    "    tfd.Normal(loc=[[1.], [5.]], scale=[0., 1., 2., 3.],\n",
    "\tname='Broadcasting Scale'),  #自动识别有８个组合，所以是２行４列\n",
    "\t]"
   ],
   "metadata": {
    "collapsed": false,
    "pycharm": {
     "name": "#%%\n"
    }
   }
  },
  {
   "cell_type": "code",
   "execution_count": 20,
   "outputs": [
    {
     "name": "stdout",
     "output_type": "stream",
     "text": [
      "tfp.distributions.Normal(\"Standard\", batch_shape=[], event_shape=[], dtype=float32)\n",
      "tfp.distributions.Normal(\"Standard_Vector_Batch\", batch_shape=[1], event_shape=[], dtype=float32)\n",
      "tfp.distributions.Normal(\"Different_Locs\", batch_shape=[4], event_shape=[], dtype=float32)\n",
      "tfp.distributions.Normal(\"Broadcasting_Scale\", batch_shape=[2, 4], event_shape=[], dtype=float32)\n",
      "tfp.distributions.Normal(\"Broadcasting_Scale\", batch_shape=[4], event_shape=[], dtype=float32)\n",
      "tfp.distributions.Normal(\"Broadcasting_Scale\", batch_shape=[2, 4], event_shape=[], dtype=float32)\n"
     ]
    }
   ],
   "source": [
    "describe_distributions(normal_distributions)"
   ],
   "metadata": {
    "collapsed": false,
    "pycharm": {
     "name": "#%%\n"
    }
   }
  },
  {
   "cell_type": "code",
   "execution_count": 22,
   "outputs": [
    {
     "name": "stdout",
     "output_type": "stream",
     "text": [
      "tfp.distributions.Poisson(\"One_Poisson_Scalar_Batch\", batch_shape=[], event_shape=[], dtype=float32)\n",
      "Sample shape: 1\n",
      "Returned sample tensor shape: (1,)\n",
      "Sample shape: 2\n",
      "Returned sample tensor shape: (2,)\n",
      "Sample shape: [1, 5]\n",
      "Returned sample tensor shape: (1, 5)\n",
      "Sample shape: [3, 4, 5]\n",
      "Returned sample tensor shape: (3, 4, 5)\n",
      "\n",
      "tfp.distributions.Poisson(\"Three_Poissons\", batch_shape=[3], event_shape=[], dtype=float32)\n",
      "Sample shape: 1\n",
      "Returned sample tensor shape: (1, 3)\n",
      "Sample shape: 2\n",
      "Returned sample tensor shape: (2, 3)\n",
      "Sample shape: [1, 5]\n",
      "Returned sample tensor shape: (1, 5, 3)\n",
      "Sample shape: [3, 4, 5]\n",
      "Returned sample tensor shape: (3, 4, 5, 3)\n",
      "\n",
      "tfp.distributions.Poisson(\"Two_by_Three_Poissons\", batch_shape=[2, 3], event_shape=[], dtype=float32)\n",
      "Sample shape: 1\n",
      "Returned sample tensor shape: (1, 2, 3)\n",
      "Sample shape: 2\n",
      "Returned sample tensor shape: (2, 2, 3)\n",
      "Sample shape: [1, 5]\n",
      "Returned sample tensor shape: (1, 5, 2, 3)\n",
      "Sample shape: [3, 4, 5]\n",
      "Returned sample tensor shape: (3, 4, 5, 2, 3)\n",
      "\n",
      "tfp.distributions.Poisson(\"One_Poisson_Vector_Batch\", batch_shape=[1], event_shape=[], dtype=float32)\n",
      "Sample shape: 1\n",
      "Returned sample tensor shape: (1, 1)\n",
      "Sample shape: 2\n",
      "Returned sample tensor shape: (2, 1)\n",
      "Sample shape: [1, 5]\n",
      "Returned sample tensor shape: (1, 5, 1)\n",
      "Sample shape: [3, 4, 5]\n",
      "Returned sample tensor shape: (3, 4, 5, 1)\n",
      "\n",
      "tfp.distributions.Poisson(\"One_Poisson_Expanded_Batch\", batch_shape=[1, 1], event_shape=[], dtype=float32)\n",
      "Sample shape: 1\n",
      "Returned sample tensor shape: (1, 1, 1)\n",
      "Sample shape: 2\n",
      "Returned sample tensor shape: (2, 1, 1)\n",
      "Sample shape: [1, 5]\n",
      "Returned sample tensor shape: (1, 5, 1, 1)\n",
      "Sample shape: [3, 4, 5]\n",
      "Returned sample tensor shape: (3, 4, 5, 1, 1)\n",
      "\n"
     ]
    }
   ],
   "source": [
    "def describe_sample_tensor_shape(sample_shape, distribution):\n",
    "    print('Sample shape:', sample_shape)\n",
    "    print('Returned sample tensor shape:', distribution.sample(sample_shape).shape)\n",
    "\n",
    "def describe_sample_tensor_shapes(distributions, sample_shapes):\n",
    "    started = False\n",
    "    for distribution in distributions:\n",
    "        print(distribution)\n",
    "        for sample_shape in sample_shapes:\n",
    "            describe_sample_tensor_shape(sample_shape, distribution)\n",
    "        print()\n",
    "\n",
    "sample_shapes = [1, 2, [1, 5], [3, 4, 5]]  # ４次sample\n",
    "describe_sample_tensor_shapes(poisson_distributions, sample_shapes)"
   ],
   "metadata": {
    "collapsed": false,
    "pycharm": {
     "name": "#%%\n"
    }
   }
  },
  {
   "cell_type": "code",
   "execution_count": 23,
   "outputs": [
    {
     "name": "stdout",
     "output_type": "stream",
     "text": [
      "tfp.distributions.Normal(\"Standard\", batch_shape=[], event_shape=[], dtype=float32)\n",
      "Sample shape: 1\n",
      "Returned sample tensor shape: (1,)\n",
      "Sample shape: 2\n",
      "Returned sample tensor shape: (2,)\n",
      "Sample shape: [1, 5]\n",
      "Returned sample tensor shape: (1, 5)\n",
      "Sample shape: [3, 4, 5]\n",
      "Returned sample tensor shape: (3, 4, 5)\n",
      "\n",
      "tfp.distributions.Normal(\"Standard_Vector_Batch\", batch_shape=[1], event_shape=[], dtype=float32)\n",
      "Sample shape: 1\n",
      "Returned sample tensor shape: (1, 1)\n",
      "Sample shape: 2\n",
      "Returned sample tensor shape: (2, 1)\n",
      "Sample shape: [1, 5]\n",
      "Returned sample tensor shape: (1, 5, 1)\n",
      "Sample shape: [3, 4, 5]\n",
      "Returned sample tensor shape: (3, 4, 5, 1)\n",
      "\n",
      "tfp.distributions.Normal(\"Different_Locs\", batch_shape=[4], event_shape=[], dtype=float32)\n",
      "Sample shape: 1\n",
      "Returned sample tensor shape: (1, 4)\n",
      "Sample shape: 2\n",
      "Returned sample tensor shape: (2, 4)\n",
      "Sample shape: [1, 5]\n",
      "Returned sample tensor shape: (1, 5, 4)\n",
      "Sample shape: [3, 4, 5]\n",
      "Returned sample tensor shape: (3, 4, 5, 4)\n",
      "\n",
      "tfp.distributions.Normal(\"Broadcasting_Scale\", batch_shape=[2, 4], event_shape=[], dtype=float32)\n",
      "Sample shape: 1\n",
      "Returned sample tensor shape: (1, 2, 4)\n",
      "Sample shape: 2\n",
      "Returned sample tensor shape: (2, 2, 4)\n",
      "Sample shape: [1, 5]\n",
      "Returned sample tensor shape: (1, 5, 2, 4)\n",
      "Sample shape: [3, 4, 5]\n",
      "Returned sample tensor shape: (3, 4, 5, 2, 4)\n",
      "\n",
      "tfp.distributions.Normal(\"Broadcasting_Scale\", batch_shape=[4], event_shape=[], dtype=float32)\n",
      "Sample shape: 1\n",
      "Returned sample tensor shape: (1, 4)\n",
      "Sample shape: 2\n",
      "Returned sample tensor shape: (2, 4)\n",
      "Sample shape: [1, 5]\n",
      "Returned sample tensor shape: (1, 5, 4)\n",
      "Sample shape: [3, 4, 5]\n",
      "Returned sample tensor shape: (3, 4, 5, 4)\n",
      "\n",
      "tfp.distributions.Normal(\"Broadcasting_Scale\", batch_shape=[2, 4], event_shape=[], dtype=float32)\n",
      "Sample shape: 1\n",
      "Returned sample tensor shape: (1, 2, 4)\n",
      "Sample shape: 2\n",
      "Returned sample tensor shape: (2, 2, 4)\n",
      "Sample shape: [1, 5]\n",
      "Returned sample tensor shape: (1, 5, 2, 4)\n",
      "Sample shape: [3, 4, 5]\n",
      "Returned sample tensor shape: (3, 4, 5, 2, 4)\n",
      "\n"
     ]
    }
   ],
   "source": [
    "describe_sample_tensor_shapes(normal_distributions, sample_shapes)"
   ],
   "metadata": {
    "collapsed": false,
    "pycharm": {
     "name": "#%%\n"
    }
   }
  },
  {
   "cell_type": "code",
   "execution_count": 24,
   "outputs": [
    {
     "data": {
      "text/plain": "<tfp.distributions.Poisson 'Three_Poissons' batch_shape=[3] event_shape=[] dtype=float32>"
     },
     "execution_count": 24,
     "metadata": {},
     "output_type": "execute_result"
    }
   ],
   "source": [
    "three_poissons = tfd.Poisson(rate=[1., 10., 100.], name='Three Poissons')\n",
    "three_poissons"
   ],
   "metadata": {
    "collapsed": false,
    "pycharm": {
     "name": "#%%\n"
    }
   }
  },
  {
   "cell_type": "code",
   "execution_count": 25,
   "outputs": [
    {
     "data": {
      "text/plain": "<tf.Tensor: shape=(2, 3), dtype=float32, numpy=\narray([[  -1.       ,   -2.0785637,   -3.2223816],\n       [-364.7394   ,   -2.0785637,  -95.39483  ]], dtype=float32)>"
     },
     "execution_count": 25,
     "metadata": {},
     "output_type": "execute_result"
    }
   ],
   "source": [
    "three_poissons.log_prob([[1., 10., 100.], [100., 10., 1]]) # sample_shape is [2]"
   ],
   "metadata": {
    "collapsed": false,
    "pycharm": {
     "name": "#%%\n"
    }
   }
  },
  {
   "cell_type": "code",
   "execution_count": 26,
   "outputs": [
    {
     "data": {
      "text/plain": "<tf.Tensor: shape=(1, 1, 2, 3), dtype=float32, numpy=\narray([[[[  -1.       ,   -2.0785637,   -3.2223816],\n         [-364.7394   ,   -2.0785637,  -95.39483  ]]]], dtype=float32)>"
     },
     "execution_count": 26,
     "metadata": {},
     "output_type": "execute_result"
    }
   ],
   "source": [
    "sample_tensor = [[[[1., 10., 100.], [100., 10., 1.]]]]\n",
    "display(tf.constant(sample_tensor))\n",
    "three_poissons.log_prob(sample_tensor)"
   ],
   "metadata": {
    "collapsed": false,
    "pycharm": {
     "name": "#%%\n"
    }
   }
  },
  {
   "cell_type": "code",
   "execution_count": null,
   "outputs": [],
   "source": [],
   "metadata": {
    "collapsed": false,
    "pycharm": {
     "name": "#%%\n"
    }
   }
  }
 ],
 "metadata": {
  "kernelspec": {
   "display_name": "Python 3",
   "language": "python",
   "name": "python3"
  },
  "language_info": {
   "codemirror_mode": {
    "name": "ipython",
    "version": 2
   },
   "file_extension": ".py",
   "mimetype": "text/x-python",
   "name": "python",
   "nbconvert_exporter": "python",
   "pygments_lexer": "ipython2",
   "version": "2.7.6"
  }
 },
 "nbformat": 4,
 "nbformat_minor": 0
}