{
 "cells": [
  {
   "cell_type": "code",
   "execution_count": 17,
   "metadata": {
    "pycharm": {
     "name": ""
    }
   },
   "outputs": [],
   "source": [
    "import tensorflow as tf\n",
    "import tensorflow_probability as tfp\n",
    "tfd = tfp.distributions\n",
    "import numpy as np\n",
    "\n",
    "# gpus = tf.config.list_physical_devices('GPU')\n",
    "# tf.config.experimental.set_memory_growth(gpus[0], True)"
   ]
  },
  {
   "cell_type": "code",
   "execution_count": 3,
   "metadata": {
    "collapsed": false,
    "jupyter": {
     "outputs_hidden": false
    },
    "pycharm": {
     "name": "#%%\n"
    }
   },
   "outputs": [],
   "source": [
    "def describe_distributions(distributions):\n",
    "    print('\\n'.join([str(d) for d in distributions]))"
   ]
  },
  {
   "cell_type": "code",
   "execution_count": 4,
   "metadata": {
    "collapsed": false,
    "jupyter": {
     "outputs_hidden": false
    },
    "pycharm": {
     "name": "#%%\n"
    }
   },
   "outputs": [
    {
     "name": "stderr",
     "output_type": "stream",
     "text": [
      "2022-05-01 23:03:08.869279: I tensorflow/core/platform/cpu_feature_guard.cc:151] This TensorFlow binary is optimized with oneAPI Deep Neural Network Library (oneDNN) to use the following CPU instructions in performance-critical operations:  AVX2 FMA\n",
      "To enable them in other operations, rebuild TensorFlow with the appropriate compiler flags.\n"
     ]
    }
   ],
   "source": [
    "poisson_distributions = [\n",
    "\ttfd.Poisson(rate=1., name='One Poisson Scalar Batch'),\n",
    "\ttfd.Poisson(rate=[1., 10., 100.], name='Three Poissons'),\n",
    "\ttfd.Poisson(rate=[[1., 10., 100.,], [2., 20., 200.]],name='Two-by-Three Poissons'),\n",
    "\ttfd.Poisson(rate=[1.], name='One Poisson Vector Batch'),\n",
    "\ttfd.Poisson(rate=[[1.]], name='One Poisson Expanded Batch')\n",
    "\t]"
   ]
  },
  {
   "cell_type": "code",
   "execution_count": 5,
   "metadata": {
    "collapsed": false,
    "jupyter": {
     "outputs_hidden": false
    },
    "pycharm": {
     "name": "#%%\n"
    }
   },
   "outputs": [
    {
     "name": "stdout",
     "output_type": "stream",
     "text": [
      "tfp.distributions.Poisson(\"One_Poisson_Scalar_Batch\", batch_shape=[], event_shape=[], dtype=float32)\n",
      "tfp.distributions.Poisson(\"Three_Poissons\", batch_shape=[3], event_shape=[], dtype=float32)\n",
      "tfp.distributions.Poisson(\"Two_by_Three_Poissons\", batch_shape=[2, 3], event_shape=[], dtype=float32)\n",
      "tfp.distributions.Poisson(\"One_Poisson_Vector_Batch\", batch_shape=[1], event_shape=[], dtype=float32)\n",
      "tfp.distributions.Poisson(\"One_Poisson_Expanded_Batch\", batch_shape=[1, 1], event_shape=[], dtype=float32)\n"
     ]
    }
   ],
   "source": [
    "describe_distributions(poisson_distributions)"
   ]
  },
  {
   "cell_type": "code",
   "execution_count": 6,
   "metadata": {
    "collapsed": false,
    "jupyter": {
     "outputs_hidden": false
    },
    "pycharm": {
     "name": "#%%\n"
    }
   },
   "outputs": [],
   "source": [
    "normal_distributions = [\n",
    "\ttfd.Normal(loc=0., scale=1., name='Standard'),\n",
    "\ttfd.Normal(loc=[0.], scale=1., name='Standard Vector Batch'),\n",
    "\ttfd.Normal(loc=[0., 1., 2., 3.], scale=1., name='Different Locs'),\n",
    "\ttfd.Normal(loc=[0., 1., 2., 3.], scale=[[1.], [5.]],  #自动识别有８个组合，所以是２行４列\n",
    "\tname='Broadcasting Scale'),\n",
    "    # tfd.Normal(loc=[0., 1., 2., 3.], scale=[1., 5.],\n",
    "\t# name='Broadcasting Scale'),  # ValueError: Arguments `loc` and `scale` must have compatible shapes; loc.shape=(4,), scale.shape=(2,).\n",
    "    tfd.Normal(loc=[0., 1., 2., 3.], scale=[1., 5., 0, 0],\n",
    "\tname='Broadcasting Scale'),\n",
    "    tfd.Normal(loc=[[1.], [5.]], scale=[0., 1., 2., 3.],\n",
    "\tname='Broadcasting Scale'),  #自动识别有８个组合，所以是２行４列\n",
    "\t]"
   ]
  },
  {
   "cell_type": "code",
   "execution_count": 7,
   "metadata": {
    "collapsed": false,
    "jupyter": {
     "outputs_hidden": false
    },
    "pycharm": {
     "name": "#%%\n"
    }
   },
   "outputs": [
    {
     "name": "stdout",
     "output_type": "stream",
     "text": [
      "tfp.distributions.Normal(\"Standard\", batch_shape=[], event_shape=[], dtype=float32)\n",
      "tfp.distributions.Normal(\"Standard_Vector_Batch\", batch_shape=[1], event_shape=[], dtype=float32)\n",
      "tfp.distributions.Normal(\"Different_Locs\", batch_shape=[4], event_shape=[], dtype=float32)\n",
      "tfp.distributions.Normal(\"Broadcasting_Scale\", batch_shape=[2, 4], event_shape=[], dtype=float32)\n",
      "tfp.distributions.Normal(\"Broadcasting_Scale\", batch_shape=[4], event_shape=[], dtype=float32)\n",
      "tfp.distributions.Normal(\"Broadcasting_Scale\", batch_shape=[2, 4], event_shape=[], dtype=float32)\n"
     ]
    }
   ],
   "source": [
    "describe_distributions(normal_distributions)"
   ]
  },
  {
   "cell_type": "code",
   "execution_count": 8,
   "metadata": {
    "collapsed": false,
    "jupyter": {
     "outputs_hidden": false
    },
    "pycharm": {
     "name": "#%%\n"
    }
   },
   "outputs": [
    {
     "name": "stdout",
     "output_type": "stream",
     "text": [
      "tfp.distributions.Poisson(\"One_Poisson_Scalar_Batch\", batch_shape=[], event_shape=[], dtype=float32)\n",
      "Sample shape: 1\n",
      "Returned sample tensor shape: (1,)\n",
      "Sample shape: 2\n",
      "Returned sample tensor shape: (2,)\n",
      "Sample shape: [1, 5]\n",
      "Returned sample tensor shape: (1, 5)\n",
      "Sample shape: [3, 4, 5]\n",
      "Returned sample tensor shape: (3, 4, 5)\n",
      "\n",
      "tfp.distributions.Poisson(\"Three_Poissons\", batch_shape=[3], event_shape=[], dtype=float32)\n",
      "Sample shape: 1\n",
      "Returned sample tensor shape: (1, 3)\n",
      "Sample shape: 2\n",
      "Returned sample tensor shape: (2, 3)\n",
      "Sample shape: [1, 5]\n",
      "Returned sample tensor shape: (1, 5, 3)\n",
      "Sample shape: [3, 4, 5]\n",
      "Returned sample tensor shape: (3, 4, 5, 3)\n",
      "\n",
      "tfp.distributions.Poisson(\"Two_by_Three_Poissons\", batch_shape=[2, 3], event_shape=[], dtype=float32)\n",
      "Sample shape: 1\n",
      "Returned sample tensor shape: (1, 2, 3)\n",
      "Sample shape: 2\n",
      "Returned sample tensor shape: (2, 2, 3)\n",
      "Sample shape: [1, 5]\n",
      "Returned sample tensor shape: (1, 5, 2, 3)\n",
      "Sample shape: [3, 4, 5]\n",
      "Returned sample tensor shape: (3, 4, 5, 2, 3)\n",
      "\n",
      "tfp.distributions.Poisson(\"One_Poisson_Vector_Batch\", batch_shape=[1], event_shape=[], dtype=float32)\n",
      "Sample shape: 1\n",
      "Returned sample tensor shape: (1, 1)\n",
      "Sample shape: 2\n",
      "Returned sample tensor shape: (2, 1)\n",
      "Sample shape: [1, 5]\n",
      "Returned sample tensor shape: (1, 5, 1)\n",
      "Sample shape: [3, 4, 5]\n",
      "Returned sample tensor shape: (3, 4, 5, 1)\n",
      "\n",
      "tfp.distributions.Poisson(\"One_Poisson_Expanded_Batch\", batch_shape=[1, 1], event_shape=[], dtype=float32)\n",
      "Sample shape: 1\n",
      "Returned sample tensor shape: (1, 1, 1)\n",
      "Sample shape: 2\n",
      "Returned sample tensor shape: (2, 1, 1)\n",
      "Sample shape: [1, 5]\n",
      "Returned sample tensor shape: (1, 5, 1, 1)\n",
      "Sample shape: [3, 4, 5]\n",
      "Returned sample tensor shape: (3, 4, 5, 1, 1)\n",
      "\n"
     ]
    }
   ],
   "source": [
    "def describe_sample_tensor_shape(sample_shape, distribution):\n",
    "    print('Sample shape:', sample_shape)\n",
    "    print('Returned sample tensor shape:', distribution.sample(sample_shape).shape)\n",
    "\n",
    "def describe_sample_tensor_shapes(distributions, sample_shapes):\n",
    "    started = False\n",
    "    for distribution in distributions:\n",
    "        print(distribution)\n",
    "        for sample_shape in sample_shapes:\n",
    "            describe_sample_tensor_shape(sample_shape, distribution)\n",
    "        print()\n",
    "\n",
    "sample_shapes = [1, 2, [1, 5], [3, 4, 5]]  # ４次sample\n",
    "describe_sample_tensor_shapes(poisson_distributions, sample_shapes)"
   ]
  },
  {
   "cell_type": "code",
   "execution_count": 9,
   "metadata": {
    "collapsed": false,
    "jupyter": {
     "outputs_hidden": false
    },
    "pycharm": {
     "name": "#%%\n"
    }
   },
   "outputs": [
    {
     "name": "stdout",
     "output_type": "stream",
     "text": [
      "tfp.distributions.Normal(\"Standard\", batch_shape=[], event_shape=[], dtype=float32)\n",
      "Sample shape: 1\n",
      "Returned sample tensor shape: (1,)\n",
      "Sample shape: 2\n",
      "Returned sample tensor shape: (2,)\n",
      "Sample shape: [1, 5]\n",
      "Returned sample tensor shape: (1, 5)\n",
      "Sample shape: [3, 4, 5]\n",
      "Returned sample tensor shape: (3, 4, 5)\n",
      "\n",
      "tfp.distributions.Normal(\"Standard_Vector_Batch\", batch_shape=[1], event_shape=[], dtype=float32)\n",
      "Sample shape: 1\n",
      "Returned sample tensor shape: (1, 1)\n",
      "Sample shape: 2\n",
      "Returned sample tensor shape: (2, 1)\n",
      "Sample shape: [1, 5]\n",
      "Returned sample tensor shape: (1, 5, 1)\n",
      "Sample shape: [3, 4, 5]\n",
      "Returned sample tensor shape: (3, 4, 5, 1)\n",
      "\n",
      "tfp.distributions.Normal(\"Different_Locs\", batch_shape=[4], event_shape=[], dtype=float32)\n",
      "Sample shape: 1\n",
      "Returned sample tensor shape: (1, 4)\n",
      "Sample shape: 2\n",
      "Returned sample tensor shape: (2, 4)\n",
      "Sample shape: [1, 5]\n",
      "Returned sample tensor shape: (1, 5, 4)\n",
      "Sample shape: [3, 4, 5]\n",
      "Returned sample tensor shape: (3, 4, 5, 4)\n",
      "\n",
      "tfp.distributions.Normal(\"Broadcasting_Scale\", batch_shape=[2, 4], event_shape=[], dtype=float32)\n",
      "Sample shape: 1\n",
      "Returned sample tensor shape: (1, 2, 4)\n",
      "Sample shape: 2\n",
      "Returned sample tensor shape: (2, 2, 4)\n",
      "Sample shape: [1, 5]\n",
      "Returned sample tensor shape: (1, 5, 2, 4)\n",
      "Sample shape: [3, 4, 5]\n",
      "Returned sample tensor shape: (3, 4, 5, 2, 4)\n",
      "\n",
      "tfp.distributions.Normal(\"Broadcasting_Scale\", batch_shape=[4], event_shape=[], dtype=float32)\n",
      "Sample shape: 1\n",
      "Returned sample tensor shape: (1, 4)\n",
      "Sample shape: 2\n",
      "Returned sample tensor shape: (2, 4)\n",
      "Sample shape: [1, 5]\n",
      "Returned sample tensor shape: (1, 5, 4)\n",
      "Sample shape: [3, 4, 5]\n",
      "Returned sample tensor shape: (3, 4, 5, 4)\n",
      "\n",
      "tfp.distributions.Normal(\"Broadcasting_Scale\", batch_shape=[2, 4], event_shape=[], dtype=float32)\n",
      "Sample shape: 1\n",
      "Returned sample tensor shape: (1, 2, 4)\n",
      "Sample shape: 2\n",
      "Returned sample tensor shape: (2, 2, 4)\n",
      "Sample shape: [1, 5]\n",
      "Returned sample tensor shape: (1, 5, 2, 4)\n",
      "Sample shape: [3, 4, 5]\n",
      "Returned sample tensor shape: (3, 4, 5, 2, 4)\n",
      "\n"
     ]
    }
   ],
   "source": [
    "describe_sample_tensor_shapes(normal_distributions, sample_shapes)"
   ]
  },
  {
   "cell_type": "code",
   "execution_count": 10,
   "metadata": {
    "collapsed": false,
    "jupyter": {
     "outputs_hidden": false
    },
    "pycharm": {
     "name": "#%%\n"
    }
   },
   "outputs": [
    {
     "data": {
      "text/plain": [
       "<tfp.distributions.Poisson 'Three_Poissons' batch_shape=[3] event_shape=[] dtype=float32>"
      ]
     },
     "execution_count": 10,
     "metadata": {},
     "output_type": "execute_result"
    }
   ],
   "source": [
    "three_poissons = tfd.Poisson(rate=[1., 10., 100.], name='Three Poissons')\n",
    "three_poissons"
   ]
  },
  {
   "cell_type": "code",
   "execution_count": 11,
   "metadata": {
    "collapsed": false,
    "jupyter": {
     "outputs_hidden": false
    },
    "pycharm": {
     "name": "#%%\n"
    }
   },
   "outputs": [
    {
     "data": {
      "text/plain": [
       "<tf.Tensor: shape=(2, 3), dtype=float32, numpy=\n",
       "array([[  -1.       ,   -2.0785608,   -3.2223587],\n",
       "       [-364.73938  ,   -2.0785608,  -95.39484  ]], dtype=float32)>"
      ]
     },
     "execution_count": 11,
     "metadata": {},
     "output_type": "execute_result"
    }
   ],
   "source": [
    "three_poissons.log_prob([[1., 10., 100.], [100., 10., 1]]) # sample_shape is [2]"
   ]
  },
  {
   "cell_type": "code",
   "execution_count": 21,
   "metadata": {
    "collapsed": false,
    "jupyter": {
     "outputs_hidden": false
    },
    "pycharm": {
     "name": "#%%\n"
    }
   },
   "outputs": [
    {
     "data": {
      "text/plain": [
       "TensorShape([1, 1, 2, 3])"
      ]
     },
     "metadata": {},
     "output_type": "display_data"
    },
    {
     "name": "stdout",
     "output_type": "stream",
     "text": [
      "\n",
      "Sample tensor的shape是[1, 1, 2, 3]\n",
      "Distribution `three_poissons`的batch_shape是[3], event_shape是[]\n",
      "因此，根据sample tensor shape=(*sample_shape, *batch_shape, *event_shape)，TensorFlow可以自动infer得知上面的sample tensor的sample_shape是[1, 1, 2]\n",
      "\n"
     ]
    },
    {
     "data": {
      "text/plain": [
       "<tf.Tensor: shape=(1, 1, 2, 3), dtype=float32, numpy=\n",
       "array([[[[  -1.       ,   -2.0785608,   -3.2223587],\n",
       "         [-364.73938  ,   -2.0785608,  -95.39484  ]]]], dtype=float32)>"
      ]
     },
     "execution_count": 21,
     "metadata": {},
     "output_type": "execute_result"
    }
   ],
   "source": [
    "sample_tensor = [[[[1., 10., 100.], [100., 10., 1.]]]]\n",
    "display(tf.constant(sample_tensor).shape)\n",
    "print()\n",
    "print('Sample tensor的shape是[1, 1, 2, 3]')\n",
    "print('Distribution `three_poissons`的batch_shape是[3], event_shape是[]')\n",
    "print('因此，根据sample tensor shape=(*sample_shape, *batch_shape, *event_shape)，TensorFlow可以自动infer得知上面的sample tensor的sample_shape是[1, 1, 2]')\n",
    "print()\n",
    "three_poissons.log_prob(sample_tensor)"
   ]
  },
  {
   "cell_type": "code",
   "execution_count": 16,
   "metadata": {
    "collapsed": false,
    "jupyter": {
     "outputs_hidden": false
    },
    "pycharm": {
     "name": "#%%\n"
    }
   },
   "outputs": [
    {
     "data": {
      "text/plain": [
       "<tf.Tensor: shape=(3,), dtype=float32, numpy=array([-16.104412 ,  -2.0785608, -69.05272  ], dtype=float32)>"
      ]
     },
     "execution_count": 16,
     "metadata": {},
     "output_type": "execute_result"
    }
   ],
   "source": [
    "three_poissons.log_prob([10.])"
   ]
  },
  {
   "cell_type": "code",
   "execution_count": 20,
   "metadata": {
    "pycharm": {
     "name": "#%%\n"
    }
   },
   "outputs": [
    {
     "data": {
      "text/plain": [
       "(2, 2, 1)"
      ]
     },
     "metadata": {},
     "output_type": "display_data"
    },
    {
     "data": {
      "text/plain": [
       "<tf.Tensor: shape=(2, 2, 3), dtype=float32, numpy=\n",
       "array([[[-1.0000000e+00, -7.6974149e+00, -9.5394836e+01],\n",
       "        [-1.6104412e+01, -2.0785608e+00, -6.9052719e+01]],\n",
       "\n",
       "       [[-3.6473938e+02, -1.4348087e+02, -3.2223587e+00],\n",
       "        [-5.9131279e+03, -3.6195427e+03, -1.4069575e+03]]], dtype=float32)>"
      ]
     },
     "execution_count": 20,
     "metadata": {},
     "output_type": "execute_result"
    }
   ],
   "source": [
    "sample_tensor = [[[1.], [10.]], [[100.], [1000.]]]\n",
    "display(np.shape(sample_tensor))\n",
    "\n",
    "three_poissons.log_prob(sample_tensor)"
   ]
  },
  {
   "cell_type": "code",
   "execution_count": null,
   "metadata": {
    "pycharm": {
     "name": "#%%\n"
    }
   },
   "outputs": [],
   "source": []
  },
  {
   "cell_type": "code",
   "execution_count": 38,
   "metadata": {},
   "outputs": [
    {
     "data": {
      "text/plain": [
       "<tf.Tensor: shape=(1,), dtype=float32, numpy=array([-33.90767], dtype=float32)>"
      ]
     },
     "execution_count": 38,
     "metadata": {},
     "output_type": "execute_result"
    }
   ],
   "source": [
    "tfd.Poisson(rate=[200.]).log_prob(100.)"
   ]
  },
  {
   "cell_type": "code",
   "execution_count": null,
   "metadata": {},
   "outputs": [],
   "source": []
  },
  {
   "cell_type": "code",
   "execution_count": null,
   "metadata": {},
   "outputs": [],
   "source": []
  },
  {
   "cell_type": "code",
   "execution_count": 22,
   "metadata": {
    "pycharm": {
     "name": "#%%\n"
    }
   },
   "outputs": [],
   "source": [
    "poisson_2_by_3 = tfd.Poisson(\n",
    "    rate=[[1., 10., 100.,], [2., 20., 200.]],\n",
    "    name='Two-by-Three Poissons')"
   ]
  },
  {
   "cell_type": "code",
   "execution_count": 23,
   "metadata": {
    "pycharm": {
     "name": "#%%\n"
    }
   },
   "outputs": [
    {
     "data": {
      "text/plain": [
       "<tf.Tensor: shape=(2, 3), dtype=float32, numpy=\n",
       "array([[  -1.       ,   -7.697415 ,  -95.39484  ],\n",
       "       [  -1.3068528,  -17.004269 , -194.70169  ]], dtype=float32)>"
      ]
     },
     "execution_count": 23,
     "metadata": {},
     "output_type": "execute_result"
    }
   ],
   "source": [
    "poisson_2_by_3.log_prob(1.)"
   ]
  },
  {
   "cell_type": "code",
   "execution_count": 24,
   "metadata": {},
   "outputs": [
    {
     "data": {
      "text/plain": [
       "<tf.Tensor: shape=(2, 3), dtype=float32, numpy=\n",
       "array([[  -1.       ,   -7.697415 ,  -95.39484  ],\n",
       "       [  -1.3068528,  -17.004269 , -194.70169  ]], dtype=float32)>"
      ]
     },
     "execution_count": 24,
     "metadata": {},
     "output_type": "execute_result"
    }
   ],
   "source": [
    "poisson_2_by_3.log_prob([1.])"
   ]
  },
  {
   "cell_type": "code",
   "execution_count": 25,
   "metadata": {},
   "outputs": [
    {
     "data": {
      "text/plain": [
       "<tf.Tensor: shape=(2, 3), dtype=float32, numpy=\n",
       "array([[  -1.       ,   -7.697415 ,  -95.39484  ],\n",
       "       [  -1.3068528,  -17.004269 , -194.70169  ]], dtype=float32)>"
      ]
     },
     "execution_count": 25,
     "metadata": {},
     "output_type": "execute_result"
    }
   ],
   "source": [
    "poisson_2_by_3.log_prob([[1., 1., 1.], [1., 1., 1.]])"
   ]
  },
  {
   "cell_type": "code",
   "execution_count": 26,
   "metadata": {},
   "outputs": [
    {
     "data": {
      "text/plain": [
       "<tf.Tensor: shape=(2, 3), dtype=float32, numpy=\n",
       "array([[ -1.       ,  -2.0785608,  -3.2223587],\n",
       "       [ -1.3068528,  -5.14709  , -33.90767  ]], dtype=float32)>"
      ]
     },
     "execution_count": 26,
     "metadata": {},
     "output_type": "execute_result"
    }
   ],
   "source": [
    "poisson_2_by_3.log_prob([[1., 10., 100.]])"
   ]
  },
  {
   "cell_type": "code",
   "execution_count": 27,
   "metadata": {},
   "outputs": [
    {
     "data": {
      "text/plain": [
       "<tf.Tensor: shape=(2, 3), dtype=float32, numpy=\n",
       "array([[ -1.       ,  -2.0785608,  -3.2223587],\n",
       "       [ -1.3068528,  -5.14709  , -33.90767  ]], dtype=float32)>"
      ]
     },
     "execution_count": 27,
     "metadata": {},
     "output_type": "execute_result"
    }
   ],
   "source": [
    "poisson_2_by_3.log_prob([[1., 10., 100.], [1., 10., 100.]])"
   ]
  },
  {
   "cell_type": "code",
   "execution_count": 29,
   "metadata": {},
   "outputs": [
    {
     "data": {
      "text/plain": [
       "<tf.Tensor: shape=(2, 3), dtype=float32, numpy=\n",
       "array([[  -1.       ,   -7.697415 ,  -95.39484  ],\n",
       "       [  -1.3068528,  -14.701683 , -190.09653  ]], dtype=float32)>"
      ]
     },
     "execution_count": 29,
     "metadata": {},
     "output_type": "execute_result"
    }
   ],
   "source": [
    "poisson_2_by_3.log_prob([[1., 1., 1.], [2., 2., 2.]]) # input sample tensor's sample_shape == 2, batch_shape == 3"
   ]
  },
  {
   "cell_type": "code",
   "execution_count": 39,
   "metadata": {},
   "outputs": [
    {
     "data": {
      "text/plain": [
       "<tf.Tensor: shape=(2, 3), dtype=float32, numpy=\n",
       "array([[  -1.       ,   -7.697415 ,  -95.39484  ],\n",
       "       [  -1.3068528,  -14.701683 , -190.09653  ]], dtype=float32)>"
      ]
     },
     "execution_count": 39,
     "metadata": {},
     "output_type": "execute_result"
    }
   ],
   "source": [
    "poisson_2_by_3.log_prob([[1.], [2.]])"
   ]
  },
  {
   "cell_type": "code",
   "execution_count": 40,
   "metadata": {},
   "outputs": [
    {
     "data": {
      "text/plain": [
       "<tf.Tensor: shape=(2, 2, 3), dtype=float32, numpy=\n",
       "array([[[  -1.       ,   -7.697415 ,  -95.39484  ],\n",
       "        [  -1.3068528,  -17.004269 , -194.70169  ]],\n",
       "\n",
       "       [[  -1.6931472,   -6.087977 ,  -91.48282  ],\n",
       "        [  -1.3068528,  -14.701683 , -190.09653  ]]], dtype=float32)>"
      ]
     },
     "execution_count": 40,
     "metadata": {},
     "output_type": "execute_result"
    }
   ],
   "source": [
    "poisson_2_by_3.log_prob([[[1., 1., 1.], [1., 1., 1.]], [[2., 2., 2.], [2., 2., 2.]]])"
   ]
  },
  {
   "cell_type": "code",
   "execution_count": 41,
   "metadata": {},
   "outputs": [
    {
     "data": {
      "text/plain": [
       "<tf.Tensor: shape=(2, 2, 3), dtype=float32, numpy=\n",
       "array([[[  -1.       ,   -7.697415 ,  -95.39484  ],\n",
       "        [  -1.3068528,  -17.004269 , -194.70169  ]],\n",
       "\n",
       "       [[  -1.6931472,   -6.087977 ,  -91.48282  ],\n",
       "        [  -1.3068528,  -14.701683 , -190.09653  ]]], dtype=float32)>"
      ]
     },
     "execution_count": 41,
     "metadata": {},
     "output_type": "execute_result"
    }
   ],
   "source": [
    "poisson_2_by_3.log_prob([[[1.], [1.]], [[2.], [2.]]])"
   ]
  },
  {
   "cell_type": "code",
   "execution_count": 42,
   "metadata": {},
   "outputs": [
    {
     "data": {
      "text/plain": [
       "<tf.Tensor: shape=(2, 2, 3), dtype=float32, numpy=\n",
       "array([[[  -1.       ,   -7.697415 ,  -95.39484  ],\n",
       "        [  -1.3068528,  -17.004269 , -194.70169  ]],\n",
       "\n",
       "       [[  -1.6931472,   -6.087977 ,  -91.48282  ],\n",
       "        [  -1.3068528,  -14.701683 , -190.09653  ]]], dtype=float32)>"
      ]
     },
     "execution_count": 42,
     "metadata": {},
     "output_type": "execute_result"
    }
   ],
   "source": [
    "poisson_2_by_3.log_prob([[[1., 1., 1.]], [[2., 2., 2.]]])"
   ]
  },
  {
   "cell_type": "markdown",
   "metadata": {},
   "source": [
    "# Understanding TensorFlow Distributions Shapes"
   ]
  },
  {
   "cell_type": "code",
   "execution_count": null,
   "metadata": {},
   "outputs": [],
   "source": []
  }
 ],
 "metadata": {
  "kernelspec": {
   "display_name": "Python 3 (ipykernel)",
   "language": "python",
   "name": "python3"
  },
  "language_info": {
   "codemirror_mode": {
    "name": "ipython",
    "version": 3
   },
   "file_extension": ".py",
   "mimetype": "text/x-python",
   "name": "python",
   "nbconvert_exporter": "python",
   "pygments_lexer": "ipython3",
   "version": "3.8.13"
  }
 },
 "nbformat": 4,
 "nbformat_minor": 4
}
