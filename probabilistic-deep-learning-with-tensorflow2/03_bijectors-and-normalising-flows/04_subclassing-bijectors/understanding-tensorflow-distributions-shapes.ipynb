{
 "cells": [
  {
   "cell_type": "code",
   "execution_count": 7,
   "metadata": {
    "pycharm": {
     "name": ""
    }
   },
   "outputs": [],
   "source": [
    "import tensorflow as tf\n",
    "import tensorflow_probability as tfp\n",
    "tfd = tfp.distributions\n",
    "tfb = tfp.bijectors\n",
    "import numpy as np\n",
    "\n",
    "# gpus = tf.config.list_physical_devices('GPU')\n",
    "# tf.config.experimental.set_memory_growth(gpus[0], True)"
   ]
  },
  {
   "cell_type": "code",
   "execution_count": 2,
   "metadata": {
    "collapsed": false,
    "jupyter": {
     "outputs_hidden": false
    },
    "pycharm": {
     "name": "#%%\n"
    }
   },
   "outputs": [],
   "source": [
    "def describe_distributions(distributions):\n",
    "    print('\\n'.join([str(d) for d in distributions]))"
   ]
  },
  {
   "cell_type": "code",
   "execution_count": 3,
   "metadata": {
    "collapsed": false,
    "jupyter": {
     "outputs_hidden": false
    },
    "pycharm": {
     "name": "#%%\n"
    }
   },
   "outputs": [
    {
     "name": "stderr",
     "output_type": "stream",
     "text": [
      "2022-05-04 21:34:48.426529: I tensorflow/stream_executor/cuda/cuda_gpu_executor.cc:936] successful NUMA node read from SysFS had negative value (-1), but there must be at least one NUMA node, so returning NUMA node zero\n",
      "2022-05-04 21:34:48.427332: W tensorflow/stream_executor/platform/default/dso_loader.cc:64] Could not load dynamic library 'libcudart.so.11.0'; dlerror: libcudart.so.11.0: cannot open shared object file: No such file or directory; LD_LIBRARY_PATH: :/usr/local/cuda/lib64\n",
      "2022-05-04 21:34:48.427492: W tensorflow/stream_executor/platform/default/dso_loader.cc:64] Could not load dynamic library 'libcublas.so.11'; dlerror: libcublas.so.11: cannot open shared object file: No such file or directory; LD_LIBRARY_PATH: :/usr/local/cuda/lib64\n",
      "2022-05-04 21:34:48.427687: W tensorflow/stream_executor/platform/default/dso_loader.cc:64] Could not load dynamic library 'libcublasLt.so.11'; dlerror: libcublasLt.so.11: cannot open shared object file: No such file or directory; LD_LIBRARY_PATH: :/usr/local/cuda/lib64\n",
      "2022-05-04 21:34:48.427826: W tensorflow/stream_executor/platform/default/dso_loader.cc:64] Could not load dynamic library 'libcufft.so.10'; dlerror: libcufft.so.10: cannot open shared object file: No such file or directory; LD_LIBRARY_PATH: :/usr/local/cuda/lib64\n",
      "2022-05-04 21:34:48.427971: W tensorflow/stream_executor/platform/default/dso_loader.cc:64] Could not load dynamic library 'libcurand.so.10'; dlerror: libcurand.so.10: cannot open shared object file: No such file or directory; LD_LIBRARY_PATH: :/usr/local/cuda/lib64\n",
      "2022-05-04 21:34:48.428120: W tensorflow/stream_executor/platform/default/dso_loader.cc:64] Could not load dynamic library 'libcusolver.so.11'; dlerror: libcusolver.so.11: cannot open shared object file: No such file or directory; LD_LIBRARY_PATH: :/usr/local/cuda/lib64\n",
      "2022-05-04 21:34:48.428256: W tensorflow/stream_executor/platform/default/dso_loader.cc:64] Could not load dynamic library 'libcusparse.so.11'; dlerror: libcusparse.so.11: cannot open shared object file: No such file or directory; LD_LIBRARY_PATH: :/usr/local/cuda/lib64\n",
      "2022-05-04 21:34:48.428397: W tensorflow/stream_executor/platform/default/dso_loader.cc:64] Could not load dynamic library 'libcudnn.so.8'; dlerror: libcudnn.so.8: cannot open shared object file: No such file or directory; LD_LIBRARY_PATH: :/usr/local/cuda/lib64\n",
      "2022-05-04 21:34:48.428405: W tensorflow/core/common_runtime/gpu/gpu_device.cc:1850] Cannot dlopen some GPU libraries. Please make sure the missing libraries mentioned above are installed properly if you would like to use GPU. Follow the guide at https://www.tensorflow.org/install/gpu for how to download and setup the required libraries for your platform.\n",
      "Skipping registering GPU devices...\n",
      "2022-05-04 21:34:48.429745: I tensorflow/core/platform/cpu_feature_guard.cc:151] This TensorFlow binary is optimized with oneAPI Deep Neural Network Library (oneDNN) to use the following CPU instructions in performance-critical operations:  AVX2 FMA\n",
      "To enable them in other operations, rebuild TensorFlow with the appropriate compiler flags.\n"
     ]
    }
   ],
   "source": [
    "poisson_distributions = [\n",
    "\ttfd.Poisson(rate=1., name='One Poisson Scalar Batch'),\n",
    "\ttfd.Poisson(rate=[1., 10., 100.], name='Three Poissons'),\n",
    "\ttfd.Poisson(rate=[[1., 10., 100.,], [2., 20., 200.]],name='Two-by-Three Poissons'),\n",
    "\ttfd.Poisson(rate=[1.], name='One Poisson Vector Batch'),\n",
    "\ttfd.Poisson(rate=[[1.]], name='One Poisson Expanded Batch')\n",
    "\t]"
   ]
  },
  {
   "cell_type": "code",
   "execution_count": 4,
   "metadata": {
    "collapsed": false,
    "jupyter": {
     "outputs_hidden": false
    },
    "pycharm": {
     "name": "#%%\n"
    }
   },
   "outputs": [
    {
     "name": "stdout",
     "output_type": "stream",
     "text": [
      "tfp.distributions.Poisson(\"One_Poisson_Scalar_Batch\", batch_shape=[], event_shape=[], dtype=float32)\n",
      "tfp.distributions.Poisson(\"Three_Poissons\", batch_shape=[3], event_shape=[], dtype=float32)\n",
      "tfp.distributions.Poisson(\"Two_by_Three_Poissons\", batch_shape=[2, 3], event_shape=[], dtype=float32)\n",
      "tfp.distributions.Poisson(\"One_Poisson_Vector_Batch\", batch_shape=[1], event_shape=[], dtype=float32)\n",
      "tfp.distributions.Poisson(\"One_Poisson_Expanded_Batch\", batch_shape=[1, 1], event_shape=[], dtype=float32)\n"
     ]
    }
   ],
   "source": [
    "describe_distributions(poisson_distributions)"
   ]
  },
  {
   "cell_type": "markdown",
   "metadata": {},
   "source": [
    "# Sampling Scalar Distributions"
   ]
  },
  {
   "cell_type": "code",
   "execution_count": 6,
   "metadata": {
    "collapsed": false,
    "jupyter": {
     "outputs_hidden": false
    },
    "pycharm": {
     "name": "#%%\n"
    }
   },
   "outputs": [],
   "source": [
    "normal_distributions = [\n",
    "\ttfd.Normal(loc=0., scale=1., name='Standard'),\n",
    "\ttfd.Normal(loc=[0.], scale=1., name='Standard Vector Batch'),\n",
    "\ttfd.Normal(loc=[0., 1., 2., 3.], scale=1., name='Different Locs'),\n",
    "\ttfd.Normal(loc=[0., 1., 2., 3.], scale=[[1.], [5.]],  #自动识别有８个组合，所以是２行４列\n",
    "\tname='Broadcasting Scale'),\n",
    "    # tfd.Normal(loc=[0., 1., 2., 3.], scale=[1., 5.],\n",
    "\t# name='Broadcasting Scale'),  # ValueError: Arguments `loc` and `scale` must have compatible shapes; loc.shape=(4,), scale.shape=(2,).\n",
    "    tfd.Normal(loc=[0., 1., 2., 3.], scale=[1., 5., 0, 0],\n",
    "\tname='Broadcasting Scale'),\n",
    "    tfd.Normal(loc=[[1.], [5.]], scale=[0., 1., 2., 3.],\n",
    "\tname='Broadcasting Scale'),  #自动识别有８个组合，所以是２行４列\n",
    "\t]"
   ]
  },
  {
   "cell_type": "code",
   "execution_count": 7,
   "metadata": {
    "collapsed": false,
    "jupyter": {
     "outputs_hidden": false
    },
    "pycharm": {
     "name": "#%%\n"
    }
   },
   "outputs": [
    {
     "name": "stdout",
     "output_type": "stream",
     "text": [
      "tfp.distributions.Normal(\"Standard\", batch_shape=[], event_shape=[], dtype=float32)\n",
      "tfp.distributions.Normal(\"Standard_Vector_Batch\", batch_shape=[1], event_shape=[], dtype=float32)\n",
      "tfp.distributions.Normal(\"Different_Locs\", batch_shape=[4], event_shape=[], dtype=float32)\n",
      "tfp.distributions.Normal(\"Broadcasting_Scale\", batch_shape=[2, 4], event_shape=[], dtype=float32)\n",
      "tfp.distributions.Normal(\"Broadcasting_Scale\", batch_shape=[4], event_shape=[], dtype=float32)\n",
      "tfp.distributions.Normal(\"Broadcasting_Scale\", batch_shape=[2, 4], event_shape=[], dtype=float32)\n"
     ]
    }
   ],
   "source": [
    "describe_distributions(normal_distributions)"
   ]
  },
  {
   "cell_type": "code",
   "execution_count": 8,
   "metadata": {
    "collapsed": false,
    "jupyter": {
     "outputs_hidden": false
    },
    "pycharm": {
     "name": "#%%\n"
    }
   },
   "outputs": [
    {
     "name": "stdout",
     "output_type": "stream",
     "text": [
      "tfp.distributions.Poisson(\"One_Poisson_Scalar_Batch\", batch_shape=[], event_shape=[], dtype=float32)\n",
      "Sample shape: 1\n",
      "Returned sample tensor shape: (1,)\n",
      "Sample shape: 2\n",
      "Returned sample tensor shape: (2,)\n",
      "Sample shape: [1, 5]\n",
      "Returned sample tensor shape: (1, 5)\n",
      "Sample shape: [3, 4, 5]\n",
      "Returned sample tensor shape: (3, 4, 5)\n",
      "\n",
      "tfp.distributions.Poisson(\"Three_Poissons\", batch_shape=[3], event_shape=[], dtype=float32)\n",
      "Sample shape: 1\n",
      "Returned sample tensor shape: (1, 3)\n",
      "Sample shape: 2\n",
      "Returned sample tensor shape: (2, 3)\n",
      "Sample shape: [1, 5]\n",
      "Returned sample tensor shape: (1, 5, 3)\n",
      "Sample shape: [3, 4, 5]\n",
      "Returned sample tensor shape: (3, 4, 5, 3)\n",
      "\n",
      "tfp.distributions.Poisson(\"Two_by_Three_Poissons\", batch_shape=[2, 3], event_shape=[], dtype=float32)\n",
      "Sample shape: 1\n",
      "Returned sample tensor shape: (1, 2, 3)\n",
      "Sample shape: 2\n",
      "Returned sample tensor shape: (2, 2, 3)\n",
      "Sample shape: [1, 5]\n",
      "Returned sample tensor shape: (1, 5, 2, 3)\n",
      "Sample shape: [3, 4, 5]\n",
      "Returned sample tensor shape: (3, 4, 5, 2, 3)\n",
      "\n",
      "tfp.distributions.Poisson(\"One_Poisson_Vector_Batch\", batch_shape=[1], event_shape=[], dtype=float32)\n",
      "Sample shape: 1\n",
      "Returned sample tensor shape: (1, 1)\n",
      "Sample shape: 2\n",
      "Returned sample tensor shape: (2, 1)\n",
      "Sample shape: [1, 5]\n",
      "Returned sample tensor shape: (1, 5, 1)\n",
      "Sample shape: [3, 4, 5]\n",
      "Returned sample tensor shape: (3, 4, 5, 1)\n",
      "\n",
      "tfp.distributions.Poisson(\"One_Poisson_Expanded_Batch\", batch_shape=[1, 1], event_shape=[], dtype=float32)\n",
      "Sample shape: 1\n",
      "Returned sample tensor shape: (1, 1, 1)\n",
      "Sample shape: 2\n",
      "Returned sample tensor shape: (2, 1, 1)\n",
      "Sample shape: [1, 5]\n",
      "Returned sample tensor shape: (1, 5, 1, 1)\n",
      "Sample shape: [3, 4, 5]\n",
      "Returned sample tensor shape: (3, 4, 5, 1, 1)\n",
      "\n"
     ]
    }
   ],
   "source": [
    "def describe_sample_tensor_shape(sample_shape, distribution):\n",
    "    print('Sample shape:', sample_shape)\n",
    "    print('Returned sample tensor shape:', distribution.sample(sample_shape).shape)\n",
    "\n",
    "def describe_sample_tensor_shapes(distributions, sample_shapes):\n",
    "    started = False\n",
    "    for distribution in distributions:\n",
    "        print(distribution)\n",
    "        for sample_shape in sample_shapes:\n",
    "            describe_sample_tensor_shape(sample_shape, distribution)\n",
    "        print()\n",
    "\n",
    "sample_shapes = [1, 2, [1, 5], [3, 4, 5]]  # ４次sample\n",
    "describe_sample_tensor_shapes(poisson_distributions, sample_shapes)"
   ]
  },
  {
   "cell_type": "code",
   "execution_count": 9,
   "metadata": {
    "collapsed": false,
    "jupyter": {
     "outputs_hidden": false
    },
    "pycharm": {
     "name": "#%%\n"
    }
   },
   "outputs": [
    {
     "name": "stdout",
     "output_type": "stream",
     "text": [
      "tfp.distributions.Normal(\"Standard\", batch_shape=[], event_shape=[], dtype=float32)\n",
      "Sample shape: 1\n",
      "Returned sample tensor shape: (1,)\n",
      "Sample shape: 2\n",
      "Returned sample tensor shape: (2,)\n",
      "Sample shape: [1, 5]\n",
      "Returned sample tensor shape: (1, 5)\n",
      "Sample shape: [3, 4, 5]\n",
      "Returned sample tensor shape: (3, 4, 5)\n",
      "\n",
      "tfp.distributions.Normal(\"Standard_Vector_Batch\", batch_shape=[1], event_shape=[], dtype=float32)\n",
      "Sample shape: 1\n",
      "Returned sample tensor shape: (1, 1)\n",
      "Sample shape: 2\n",
      "Returned sample tensor shape: (2, 1)\n",
      "Sample shape: [1, 5]\n",
      "Returned sample tensor shape: (1, 5, 1)\n",
      "Sample shape: [3, 4, 5]\n",
      "Returned sample tensor shape: (3, 4, 5, 1)\n",
      "\n",
      "tfp.distributions.Normal(\"Different_Locs\", batch_shape=[4], event_shape=[], dtype=float32)\n",
      "Sample shape: 1\n",
      "Returned sample tensor shape: (1, 4)\n",
      "Sample shape: 2\n",
      "Returned sample tensor shape: (2, 4)\n",
      "Sample shape: [1, 5]\n",
      "Returned sample tensor shape: (1, 5, 4)\n",
      "Sample shape: [3, 4, 5]\n",
      "Returned sample tensor shape: (3, 4, 5, 4)\n",
      "\n",
      "tfp.distributions.Normal(\"Broadcasting_Scale\", batch_shape=[2, 4], event_shape=[], dtype=float32)\n",
      "Sample shape: 1\n",
      "Returned sample tensor shape: (1, 2, 4)\n",
      "Sample shape: 2\n",
      "Returned sample tensor shape: (2, 2, 4)\n",
      "Sample shape: [1, 5]\n",
      "Returned sample tensor shape: (1, 5, 2, 4)\n",
      "Sample shape: [3, 4, 5]\n",
      "Returned sample tensor shape: (3, 4, 5, 2, 4)\n",
      "\n",
      "tfp.distributions.Normal(\"Broadcasting_Scale\", batch_shape=[4], event_shape=[], dtype=float32)\n",
      "Sample shape: 1\n",
      "Returned sample tensor shape: (1, 4)\n",
      "Sample shape: 2\n",
      "Returned sample tensor shape: (2, 4)\n",
      "Sample shape: [1, 5]\n",
      "Returned sample tensor shape: (1, 5, 4)\n",
      "Sample shape: [3, 4, 5]\n",
      "Returned sample tensor shape: (3, 4, 5, 4)\n",
      "\n",
      "tfp.distributions.Normal(\"Broadcasting_Scale\", batch_shape=[2, 4], event_shape=[], dtype=float32)\n",
      "Sample shape: 1\n",
      "Returned sample tensor shape: (1, 2, 4)\n",
      "Sample shape: 2\n",
      "Returned sample tensor shape: (2, 2, 4)\n",
      "Sample shape: [1, 5]\n",
      "Returned sample tensor shape: (1, 5, 2, 4)\n",
      "Sample shape: [3, 4, 5]\n",
      "Returned sample tensor shape: (3, 4, 5, 2, 4)\n",
      "\n"
     ]
    }
   ],
   "source": [
    "describe_sample_tensor_shapes(normal_distributions, sample_shapes)"
   ]
  },
  {
   "cell_type": "markdown",
   "metadata": {},
   "source": [
    "# Computing log_prob For Scalar Distributions"
   ]
  },
  {
   "cell_type": "code",
   "execution_count": 10,
   "metadata": {
    "collapsed": false,
    "jupyter": {
     "outputs_hidden": false
    },
    "pycharm": {
     "name": "#%%\n"
    }
   },
   "outputs": [
    {
     "data": {
      "text/plain": [
       "<tfp.distributions.Poisson 'Three_Poissons' batch_shape=[3] event_shape=[] dtype=float32>"
      ]
     },
     "execution_count": 10,
     "metadata": {},
     "output_type": "execute_result"
    }
   ],
   "source": [
    "three_poissons = tfd.Poisson(rate=[1., 10., 100.], name='Three Poissons')\n",
    "three_poissons"
   ]
  },
  {
   "cell_type": "code",
   "execution_count": 11,
   "metadata": {
    "collapsed": false,
    "jupyter": {
     "outputs_hidden": false
    },
    "pycharm": {
     "name": "#%%\n"
    }
   },
   "outputs": [
    {
     "data": {
      "text/plain": [
       "<tf.Tensor: shape=(2, 3), dtype=float32, numpy=\n",
       "array([[  -1.       ,   -2.0785608,   -3.2223587],\n",
       "       [-364.73938  ,   -2.0785608,  -95.39484  ]], dtype=float32)>"
      ]
     },
     "execution_count": 11,
     "metadata": {},
     "output_type": "execute_result"
    }
   ],
   "source": [
    "three_poissons.log_prob([[1., 10., 100.], [100., 10., 1]]) # sample_shape is [2]"
   ]
  },
  {
   "cell_type": "code",
   "execution_count": 12,
   "metadata": {
    "collapsed": false,
    "jupyter": {
     "outputs_hidden": false
    },
    "pycharm": {
     "name": "#%%\n"
    }
   },
   "outputs": [
    {
     "data": {
      "text/plain": [
       "TensorShape([1, 1, 2, 3])"
      ]
     },
     "metadata": {},
     "output_type": "display_data"
    },
    {
     "name": "stdout",
     "output_type": "stream",
     "text": [
      "\n",
      "Sample tensor的shape是[1, 1, 2, 3]\n",
      "Distribution `three_poissons`的batch_shape是[3], event_shape是[]\n",
      "因此，根据sample tensor shape=(*sample_shape, *batch_shape, *event_shape)，TensorFlow可以自动infer得知上面的sample tensor的sample_shape是[1, 1, 2]\n",
      "\n"
     ]
    },
    {
     "data": {
      "text/plain": [
       "<tf.Tensor: shape=(1, 1, 2, 3), dtype=float32, numpy=\n",
       "array([[[[  -1.       ,   -2.0785608,   -3.2223587],\n",
       "         [-364.73938  ,   -2.0785608,  -95.39484  ]]]], dtype=float32)>"
      ]
     },
     "execution_count": 12,
     "metadata": {},
     "output_type": "execute_result"
    }
   ],
   "source": [
    "sample_tensor = [[[[1., 10., 100.], [100., 10., 1.]]]]\n",
    "display(tf.constant(sample_tensor).shape)\n",
    "print()\n",
    "print('Sample tensor的shape是[1, 1, 2, 3]')\n",
    "print('Distribution `three_poissons`的batch_shape是[3], event_shape是[]')\n",
    "print('因此，根据sample tensor shape=(*sample_shape, *batch_shape, *event_shape)，TensorFlow可以自动infer得知上面的sample tensor的sample_shape是[1, 1, 2]')\n",
    "print()\n",
    "three_poissons.log_prob(sample_tensor)"
   ]
  },
  {
   "cell_type": "code",
   "execution_count": 13,
   "metadata": {
    "collapsed": false,
    "jupyter": {
     "outputs_hidden": false
    },
    "pycharm": {
     "name": "#%%\n"
    }
   },
   "outputs": [
    {
     "data": {
      "text/plain": [
       "<tf.Tensor: shape=(3,), dtype=float32, numpy=array([-16.104412 ,  -2.0785608, -69.05272  ], dtype=float32)>"
      ]
     },
     "execution_count": 13,
     "metadata": {},
     "output_type": "execute_result"
    }
   ],
   "source": [
    "three_poissons.log_prob([10.])"
   ]
  },
  {
   "cell_type": "code",
   "execution_count": 15,
   "metadata": {
    "pycharm": {
     "name": "#%%\n"
    }
   },
   "outputs": [
    {
     "data": {
      "text/plain": [
       "(2, 2, 1)"
      ]
     },
     "metadata": {},
     "output_type": "display_data"
    },
    {
     "data": {
      "text/plain": [
       "<tf.Tensor: shape=(2, 2, 3), dtype=float32, numpy=\n",
       "array([[[-1.0000000e+00, -7.6974149e+00, -9.5394836e+01],\n",
       "        [-1.6104412e+01, -2.0785608e+00, -6.9052719e+01]],\n",
       "\n",
       "       [[-3.6473938e+02, -1.4348087e+02, -3.2223587e+00],\n",
       "        [-5.9131279e+03, -3.6195427e+03, -1.4069575e+03]]], dtype=float32)>"
      ]
     },
     "execution_count": 15,
     "metadata": {},
     "output_type": "execute_result"
    }
   ],
   "source": [
    "sample_tensor = [[[1.], [10.]], [[100.], [1000.]]]\n",
    "display(np.shape(sample_tensor))\n",
    "\n",
    "three_poissons.log_prob(sample_tensor)"
   ]
  },
  {
   "cell_type": "markdown",
   "metadata": {
    "pycharm": {
     "name": "#%%\n"
    }
   },
   "source": [
    "test value"
   ]
  },
  {
   "cell_type": "code",
   "execution_count": 38,
   "metadata": {},
   "outputs": [
    {
     "data": {
      "text/plain": [
       "<tf.Tensor: shape=(1,), dtype=float32, numpy=array([-33.90767], dtype=float32)>"
      ]
     },
     "execution_count": 38,
     "metadata": {},
     "output_type": "execute_result"
    }
   ],
   "source": [
    "tfd.Poisson(rate=[200.]).log_prob(100.)"
   ]
  },
  {
   "cell_type": "code",
   "execution_count": null,
   "metadata": {},
   "outputs": [],
   "source": []
  },
  {
   "cell_type": "code",
   "execution_count": null,
   "metadata": {},
   "outputs": [],
   "source": []
  },
  {
   "cell_type": "code",
   "execution_count": 24,
   "metadata": {
    "pycharm": {
     "name": "#%%\n"
    }
   },
   "outputs": [],
   "source": [
    "poisson_2_by_3 = tfd.Poisson(\n",
    "    rate=[[1., 10., 100.,], [2., 20., 200.]],\n",
    "    name='Two-by-Three Poissons')"
   ]
  },
  {
   "cell_type": "code",
   "execution_count": 25,
   "metadata": {
    "pycharm": {
     "name": "#%%\n"
    }
   },
   "outputs": [
    {
     "data": {
      "text/plain": [
       "<tf.Tensor: shape=(2, 3), dtype=float32, numpy=\n",
       "array([[  -1.       ,   -7.697415 ,  -95.39484  ],\n",
       "       [  -1.3068528,  -17.004269 , -194.70169  ]], dtype=float32)>"
      ]
     },
     "execution_count": 25,
     "metadata": {},
     "output_type": "execute_result"
    }
   ],
   "source": [
    "poisson_2_by_3.log_prob(1.)"
   ]
  },
  {
   "cell_type": "code",
   "execution_count": 26,
   "metadata": {},
   "outputs": [
    {
     "data": {
      "text/plain": [
       "<tf.Tensor: shape=(2, 3), dtype=float32, numpy=\n",
       "array([[  -1.       ,   -7.697415 ,  -95.39484  ],\n",
       "       [  -1.3068528,  -17.004269 , -194.70169  ]], dtype=float32)>"
      ]
     },
     "execution_count": 26,
     "metadata": {},
     "output_type": "execute_result"
    }
   ],
   "source": [
    "poisson_2_by_3.log_prob([1.])"
   ]
  },
  {
   "cell_type": "code",
   "execution_count": 27,
   "metadata": {},
   "outputs": [
    {
     "data": {
      "text/plain": [
       "<tf.Tensor: shape=(2, 3), dtype=float32, numpy=\n",
       "array([[  -1.       ,   -7.697415 ,  -95.39484  ],\n",
       "       [  -1.3068528,  -17.004269 , -194.70169  ]], dtype=float32)>"
      ]
     },
     "execution_count": 27,
     "metadata": {},
     "output_type": "execute_result"
    }
   ],
   "source": [
    "poisson_2_by_3.log_prob([[1., 1., 1.], [1., 1., 1.]])"
   ]
  },
  {
   "cell_type": "code",
   "execution_count": 28,
   "metadata": {},
   "outputs": [
    {
     "data": {
      "text/plain": [
       "<tf.Tensor: shape=(2, 3), dtype=float32, numpy=\n",
       "array([[ -1.       ,  -2.0785608,  -3.2223587],\n",
       "       [ -1.3068528,  -5.14709  , -33.90767  ]], dtype=float32)>"
      ]
     },
     "execution_count": 28,
     "metadata": {},
     "output_type": "execute_result"
    }
   ],
   "source": [
    "poisson_2_by_3.log_prob([[1., 10., 100.]])"
   ]
  },
  {
   "cell_type": "code",
   "execution_count": 29,
   "metadata": {},
   "outputs": [
    {
     "data": {
      "text/plain": [
       "<tf.Tensor: shape=(2, 3), dtype=float32, numpy=\n",
       "array([[ -1.       ,  -2.0785608,  -3.2223587],\n",
       "       [ -1.3068528,  -5.14709  , -33.90767  ]], dtype=float32)>"
      ]
     },
     "execution_count": 29,
     "metadata": {},
     "output_type": "execute_result"
    }
   ],
   "source": [
    "poisson_2_by_3.log_prob([[1., 10., 100.], [1., 10., 100.]])"
   ]
  },
  {
   "cell_type": "code",
   "execution_count": 30,
   "metadata": {},
   "outputs": [
    {
     "data": {
      "text/plain": [
       "<tf.Tensor: shape=(2, 3), dtype=float32, numpy=\n",
       "array([[  -1.       ,   -7.697415 ,  -95.39484  ],\n",
       "       [  -1.3068528,  -14.701683 , -190.09653  ]], dtype=float32)>"
      ]
     },
     "execution_count": 30,
     "metadata": {},
     "output_type": "execute_result"
    }
   ],
   "source": [
    "poisson_2_by_3.log_prob([[1., 1., 1.], [2., 2., 2.]]) # input sample tensor's sample_shape == 2, batch_shape == 3"
   ]
  },
  {
   "cell_type": "code",
   "execution_count": 31,
   "metadata": {},
   "outputs": [
    {
     "data": {
      "text/plain": [
       "<tf.Tensor: shape=(2, 3), dtype=float32, numpy=\n",
       "array([[  -1.       ,   -7.697415 ,  -95.39484  ],\n",
       "       [  -1.3068528,  -14.701683 , -190.09653  ]], dtype=float32)>"
      ]
     },
     "execution_count": 31,
     "metadata": {},
     "output_type": "execute_result"
    }
   ],
   "source": [
    "poisson_2_by_3.log_prob([[1.], [2.]])"
   ]
  },
  {
   "cell_type": "code",
   "execution_count": 32,
   "metadata": {},
   "outputs": [
    {
     "data": {
      "text/plain": [
       "<tf.Tensor: shape=(2, 2, 3), dtype=float32, numpy=\n",
       "array([[[  -1.       ,   -7.697415 ,  -95.39484  ],\n",
       "        [  -1.3068528,  -17.004269 , -194.70169  ]],\n",
       "\n",
       "       [[  -1.6931472,   -6.087977 ,  -91.48282  ],\n",
       "        [  -1.3068528,  -14.701683 , -190.09653  ]]], dtype=float32)>"
      ]
     },
     "execution_count": 32,
     "metadata": {},
     "output_type": "execute_result"
    }
   ],
   "source": [
    "poisson_2_by_3.log_prob([[[1., 1., 1.], [1., 1., 1.]], [[2., 2., 2.], [2., 2., 2.]]])"
   ]
  },
  {
   "cell_type": "code",
   "execution_count": 33,
   "metadata": {},
   "outputs": [
    {
     "data": {
      "text/plain": [
       "<tf.Tensor: shape=(2, 2, 3), dtype=float32, numpy=\n",
       "array([[[  -1.       ,   -7.697415 ,  -95.39484  ],\n",
       "        [  -1.3068528,  -17.004269 , -194.70169  ]],\n",
       "\n",
       "       [[  -1.6931472,   -6.087977 ,  -91.48282  ],\n",
       "        [  -1.3068528,  -14.701683 , -190.09653  ]]], dtype=float32)>"
      ]
     },
     "execution_count": 33,
     "metadata": {},
     "output_type": "execute_result"
    }
   ],
   "source": [
    "poisson_2_by_3.log_prob([[[1.], [1.]], [[2.], [2.]]])"
   ]
  },
  {
   "cell_type": "code",
   "execution_count": 34,
   "metadata": {},
   "outputs": [
    {
     "data": {
      "text/plain": [
       "<tf.Tensor: shape=(2, 2, 3), dtype=float32, numpy=\n",
       "array([[[  -1.       ,   -7.697415 ,  -95.39484  ],\n",
       "        [  -1.3068528,  -17.004269 , -194.70169  ]],\n",
       "\n",
       "       [[  -1.6931472,   -6.087977 ,  -91.48282  ],\n",
       "        [  -1.3068528,  -14.701683 , -190.09653  ]]], dtype=float32)>"
      ]
     },
     "execution_count": 34,
     "metadata": {},
     "output_type": "execute_result"
    }
   ],
   "source": [
    "poisson_2_by_3.log_prob([[[1., 1., 1.]], [[2., 2., 2.]]])"
   ]
  },
  {
   "cell_type": "code",
   "execution_count": 35,
   "metadata": {},
   "outputs": [
    {
     "data": {
      "text/plain": [
       "<tf.Tensor: shape=(2, 2, 3), dtype=float32, numpy=\n",
       "array([[[  -1.       ,   -7.697415 ,  -95.39484  ],\n",
       "        [  -1.3068528,  -17.004269 , -194.70169  ]],\n",
       "\n",
       "       [[  -1.6931472,   -6.087977 ,  -91.48282  ],\n",
       "        [  -1.3068528,  -14.701683 , -190.09653  ]]], dtype=float32)>"
      ]
     },
     "execution_count": 35,
     "metadata": {},
     "output_type": "execute_result"
    }
   ],
   "source": [
    "poisson_2_by_3.log_prob([[[1.]], [[2.]]])"
   ]
  },
  {
   "cell_type": "code",
   "execution_count": 37,
   "metadata": {},
   "outputs": [
    {
     "data": {
      "text/plain": [
       "<tf.Tensor: shape=(2, 2, 3), dtype=float32, numpy=\n",
       "array([[[  -1.       ,   -7.697415 ,  -95.39484  ],\n",
       "        [  -1.3068528,  -17.004269 , -194.70169  ]],\n",
       "\n",
       "       [[  -1.6931472,   -6.087977 ,  -91.48282  ],\n",
       "        [  -1.3068528,  -14.701683 , -190.09653  ]]], dtype=float32)>"
      ]
     },
     "execution_count": 37,
     "metadata": {},
     "output_type": "execute_result"
    }
   ],
   "source": [
    "poisson_2_by_3.log_prob(tf.constant([1., 2.])[..., tf.newaxis, tf.newaxis])"
   ]
  },
  {
   "cell_type": "code",
   "execution_count": 38,
   "metadata": {},
   "outputs": [
    {
     "data": {
      "text/plain": [
       "<tf.Tensor: shape=(2, 1, 1), dtype=float32, numpy=\n",
       "array([[[1.]],\n",
       "\n",
       "       [[2.]]], dtype=float32)>"
      ]
     },
     "execution_count": 38,
     "metadata": {},
     "output_type": "execute_result"
    }
   ],
   "source": [
    "tf.constant([1., 2.])[..., tf.newaxis, tf.newaxis]"
   ]
  },
  {
   "cell_type": "code",
   "execution_count": 39,
   "metadata": {},
   "outputs": [
    {
     "data": {
      "text/plain": [
       "<tf.Tensor: shape=(2,), dtype=float32, numpy=array([1., 2.], dtype=float32)>"
      ]
     },
     "execution_count": 39,
     "metadata": {},
     "output_type": "execute_result"
    }
   ],
   "source": [
    "tf.constant([1., 2.])"
   ]
  },
  {
   "cell_type": "code",
   "execution_count": 40,
   "metadata": {},
   "outputs": [
    {
     "data": {
      "text/plain": [
       "<tf.Tensor: shape=(4, 3), dtype=float32, numpy=\n",
       "array([[  -1.       ,   -7.697415 ,  -95.39484  ],\n",
       "       [ -16.104412 ,   -2.0785608,  -69.05272  ],\n",
       "       [-149.47777  ,  -43.34851  ,  -18.219261 ],\n",
       "       [-364.73938  , -143.48087  ,   -3.2223587]], dtype=float32)>"
      ]
     },
     "execution_count": 40,
     "metadata": {},
     "output_type": "execute_result"
    }
   ],
   "source": [
    "three_poissons.log_prob([[1.], [10.], [50.], [100.]])"
   ]
  },
  {
   "cell_type": "code",
   "execution_count": 41,
   "metadata": {},
   "outputs": [
    {
     "data": {
      "text/plain": [
       "<tf.Tensor: shape=(4, 3), dtype=float32, numpy=\n",
       "array([[  -1.       ,   -7.697415 ,  -95.39484  ],\n",
       "       [ -16.104412 ,   -2.0785608,  -69.05272  ],\n",
       "       [-149.47777  ,  -43.34851  ,  -18.219261 ],\n",
       "       [-364.73938  , -143.48087  ,   -3.2223587]], dtype=float32)>"
      ]
     },
     "execution_count": 41,
     "metadata": {},
     "output_type": "execute_result"
    }
   ],
   "source": [
    "three_poissons.log_prob(tf.constant([1., 10., 50., 100.])[..., tf.newaxis])"
   ]
  },
  {
   "cell_type": "code",
   "execution_count": 42,
   "metadata": {},
   "outputs": [
    {
     "data": {
      "text/plain": [
       "<tf.Tensor: shape=(4, 3), dtype=float32, numpy=\n",
       "array([[  -1.       ,   -7.697415 ,  -95.39484  ],\n",
       "       [ -16.104412 ,   -2.0785608,  -69.05272  ],\n",
       "       [-149.47777  ,  -43.34851  ,  -18.219261 ],\n",
       "       [-364.73938  , -143.48087  ,   -3.2223587]], dtype=float32)>"
      ]
     },
     "execution_count": 42,
     "metadata": {},
     "output_type": "execute_result"
    }
   ],
   "source": [
    "three_poissons.log_prob(tf.expand_dims(tf.constant([1., 10., 50., 100.]),axis=-1))"
   ]
  },
  {
   "cell_type": "markdown",
   "metadata": {},
   "source": [
    "# Multivariate distributions"
   ]
  },
  {
   "cell_type": "code",
   "execution_count": 58,
   "metadata": {},
   "outputs": [
    {
     "data": {
      "text/plain": [
       "<tfp.distributions.Multinomial 'One_Multinomial' batch_shape=[] event_shape=[3] dtype=float32>"
      ]
     },
     "execution_count": 58,
     "metadata": {},
     "output_type": "execute_result"
    }
   ],
   "source": [
    "a = tfd.Multinomial(total_count=100., probs=[.5, .4, .1],\n",
    "    name='One Multinomial')\n",
    "a"
   ]
  },
  {
   "cell_type": "code",
   "execution_count": 64,
   "metadata": {},
   "outputs": [
    {
     "data": {
      "text/plain": [
       "<tf.Tensor: shape=(1, 3), dtype=float32, numpy=array([[48., 45.,  7.]], dtype=float32)>"
      ]
     },
     "execution_count": 64,
     "metadata": {},
     "output_type": "execute_result"
    }
   ],
   "source": [
    "sample_tensor_shape = 1\n",
    "sample_tensor = a.sample(sample_tensor_shape)\n",
    "sample_tensor"
   ]
  },
  {
   "cell_type": "code",
   "execution_count": 65,
   "metadata": {},
   "outputs": [
    {
     "data": {
      "text/plain": [
       "<tf.Tensor: shape=(1,), dtype=float32, numpy=array([0.00548431], dtype=float32)>"
      ]
     },
     "execution_count": 65,
     "metadata": {},
     "output_type": "execute_result"
    }
   ],
   "source": [
    "a.prob(sample_tensor)"
   ]
  },
  {
   "cell_type": "code",
   "execution_count": 66,
   "metadata": {},
   "outputs": [
    {
     "data": {
      "text/plain": [
       "<tf.Tensor: shape=(3, 3), dtype=float32, numpy=\n",
       "array([[40., 50., 10.],\n",
       "       [46., 42., 12.],\n",
       "       [58., 34.,  8.]], dtype=float32)>"
      ]
     },
     "execution_count": 66,
     "metadata": {},
     "output_type": "execute_result"
    }
   ],
   "source": [
    "sample_tensor_shape = 3\n",
    "sample_tensor = a.sample(sample_tensor_shape)\n",
    "sample_tensor"
   ]
  },
  {
   "cell_type": "code",
   "execution_count": 67,
   "metadata": {},
   "outputs": [
    {
     "data": {
      "text/plain": [
       "<tf.Tensor: shape=(3,), dtype=float32, numpy=array([0.0011949 , 0.00692727, 0.00341546], dtype=float32)>"
      ]
     },
     "execution_count": 67,
     "metadata": {},
     "output_type": "execute_result"
    }
   ],
   "source": [
    "a.prob(sample_tensor)"
   ]
  },
  {
   "cell_type": "code",
   "execution_count": 49,
   "metadata": {},
   "outputs": [],
   "source": [
    "multinomial_distributions = [\n",
    "# Multinomial is a vector-valued distribution: if we have k classes,\n",
    "# an individual sample from the distribution has k values in it, so the\n",
    "# event_shape is `[k]`.\n",
    "    tfd.Multinomial(total_count=100., probs=[.5, .4, .1], name='One Multinomial'),\n",
    "    tfd.Multinomial(total_count=[100., 1000.], probs=[.5, .4, .1], name='Two Multinomials Same Probs'),\n",
    "    tfd.Multinomial(total_count=100., probs=[[.5, .4, .1], [.1, .2, .7]], name='Two Multinomials Same Counts'),\n",
    "    tfd.Multinomial(total_count=[100., 1000.], probs=[[.5, .4, .1], [.1, .2, .7]],\n",
    "    name='Two Multinomials Different Everything')\n",
    "]"
   ]
  },
  {
   "cell_type": "code",
   "execution_count": 50,
   "metadata": {},
   "outputs": [
    {
     "name": "stdout",
     "output_type": "stream",
     "text": [
      "tfp.distributions.Multinomial(\"One_Multinomial\", batch_shape=[], event_shape=[3], dtype=float32)\n",
      "tfp.distributions.Multinomial(\"Two_Multinomials_Same_Probs\", batch_shape=[2], event_shape=[3], dtype=float32)\n",
      "tfp.distributions.Multinomial(\"Two_Multinomials_Same_Counts\", batch_shape=[2], event_shape=[3], dtype=float32)\n",
      "tfp.distributions.Multinomial(\"Two_Multinomials_Different_Everything\", batch_shape=[2], event_shape=[3], dtype=float32)\n"
     ]
    }
   ],
   "source": [
    "describe_distributions(multinomial_distributions)"
   ]
  },
  {
   "cell_type": "code",
   "execution_count": 51,
   "metadata": {},
   "outputs": [
    {
     "data": {
      "text/plain": [
       "[1, 2, [1, 5], [3, 4, 5]]"
      ]
     },
     "execution_count": 51,
     "metadata": {},
     "output_type": "execute_result"
    }
   ],
   "source": [
    "sample_shapes"
   ]
  },
  {
   "cell_type": "code",
   "execution_count": 52,
   "metadata": {},
   "outputs": [
    {
     "name": "stdout",
     "output_type": "stream",
     "text": [
      "tfp.distributions.Multinomial(\"One_Multinomial\", batch_shape=[], event_shape=[3], dtype=float32)\n",
      "Sample shape: 1\n",
      "Returned sample tensor shape: (1, 3)\n",
      "Sample shape: 2\n",
      "Returned sample tensor shape: (2, 3)\n",
      "Sample shape: [1, 5]\n",
      "Returned sample tensor shape: (1, 5, 3)\n",
      "Sample shape: [3, 4, 5]\n",
      "Returned sample tensor shape: (3, 4, 5, 3)\n",
      "\n",
      "tfp.distributions.Multinomial(\"Two_Multinomials_Same_Probs\", batch_shape=[2], event_shape=[3], dtype=float32)\n",
      "Sample shape: 1\n",
      "Returned sample tensor shape: (1, 2, 3)\n",
      "Sample shape: 2\n",
      "WARNING:tensorflow:5 out of the last 13 calls to <function _random_binomial at 0x7fa346962b80> triggered tf.function retracing. Tracing is expensive and the excessive number of tracings could be due to (1) creating @tf.function repeatedly in a loop, (2) passing tensors with different shapes, (3) passing Python objects instead of tensors. For (1), please define your @tf.function outside of the loop. For (2), @tf.function has experimental_relax_shapes=True option that relaxes argument shapes that can avoid unnecessary retracing. For (3), please refer to https://www.tensorflow.org/guide/function#controlling_retracing and https://www.tensorflow.org/api_docs/python/tf/function for  more details.\n",
      "Returned sample tensor shape: (2, 2, 3)\n",
      "Sample shape: [1, 5]\n",
      "WARNING:tensorflow:6 out of the last 15 calls to <function _random_binomial at 0x7fa346962b80> triggered tf.function retracing. Tracing is expensive and the excessive number of tracings could be due to (1) creating @tf.function repeatedly in a loop, (2) passing tensors with different shapes, (3) passing Python objects instead of tensors. For (1), please define your @tf.function outside of the loop. For (2), @tf.function has experimental_relax_shapes=True option that relaxes argument shapes that can avoid unnecessary retracing. For (3), please refer to https://www.tensorflow.org/guide/function#controlling_retracing and https://www.tensorflow.org/api_docs/python/tf/function for  more details.\n",
      "Returned sample tensor shape: (1, 5, 2, 3)\n",
      "Sample shape: [3, 4, 5]\n",
      "Returned sample tensor shape: (3, 4, 5, 2, 3)\n",
      "\n",
      "tfp.distributions.Multinomial(\"Two_Multinomials_Same_Counts\", batch_shape=[2], event_shape=[3], dtype=float32)\n",
      "Sample shape: 1\n",
      "Returned sample tensor shape: (1, 2, 3)\n",
      "Sample shape: 2\n",
      "Returned sample tensor shape: (2, 2, 3)\n",
      "Sample shape: [1, 5]\n",
      "Returned sample tensor shape: (1, 5, 2, 3)\n",
      "Sample shape: [3, 4, 5]\n",
      "Returned sample tensor shape: (3, 4, 5, 2, 3)\n",
      "\n",
      "tfp.distributions.Multinomial(\"Two_Multinomials_Different_Everything\", batch_shape=[2], event_shape=[3], dtype=float32)\n",
      "Sample shape: 1\n",
      "Returned sample tensor shape: (1, 2, 3)\n",
      "Sample shape: 2\n",
      "Returned sample tensor shape: (2, 2, 3)\n",
      "Sample shape: [1, 5]\n",
      "Returned sample tensor shape: (1, 5, 2, 3)\n",
      "Sample shape: [3, 4, 5]\n",
      "Returned sample tensor shape: (3, 4, 5, 2, 3)\n",
      "\n"
     ]
    }
   ],
   "source": [
    "describe_sample_tensor_shapes(multinomial_distributions, sample_shapes)"
   ]
  },
  {
   "cell_type": "code",
   "execution_count": 68,
   "metadata": {},
   "outputs": [
    {
     "data": {
      "text/plain": [
       "<tfp.distributions.MultivariateNormalDiag 'MultivariateNormalDiag' batch_shape=[2] event_shape=[3] dtype=float32>"
      ]
     },
     "execution_count": 68,
     "metadata": {},
     "output_type": "execute_result"
    }
   ],
   "source": [
    "two_multivariate_normals = tfd.MultivariateNormalDiag(loc=[1., 2., 3.], scale_identity_multiplier=[1., 2.])\n",
    "two_multivariate_normals"
   ]
  },
  {
   "cell_type": "code",
   "execution_count": 79,
   "metadata": {},
   "outputs": [
    {
     "data": {
      "text/plain": [
       "<tf.Tensor: shape=(1, 2, 3), dtype=float32, numpy=\n",
       "array([[[-0.16367447,  1.723098  ,  3.5098622 ],\n",
       "        [ 2.1409044 ,  3.6139274 ,  1.8398367 ]]], dtype=float32)>"
      ]
     },
     "execution_count": 79,
     "metadata": {},
     "output_type": "execute_result"
    }
   ],
   "source": [
    "sample_tensor = two_multivariate_normals.sample(1) # sample_shape==1, batch_shape==2, event_shape==3\n",
    "sample_tensor"
   ]
  },
  {
   "cell_type": "code",
   "execution_count": 80,
   "metadata": {},
   "outputs": [
    {
     "data": {
      "text/plain": [
       "<tf.Tensor: shape=(1, 2), dtype=float32, numpy=array([[0.02726363, 0.00411627]], dtype=float32)>"
      ]
     },
     "execution_count": 80,
     "metadata": {},
     "output_type": "execute_result"
    }
   ],
   "source": [
    "two_multivariate_normals.prob(sample_tensor)"
   ]
  },
  {
   "cell_type": "code",
   "execution_count": 73,
   "metadata": {},
   "outputs": [
    {
     "data": {
      "text/plain": [
       "<tf.Tensor: shape=(2, 2), dtype=float32, numpy=\n",
       "array([[-2.7568154, -4.836257 ],\n",
       "       [-8.756816 , -6.336257 ]], dtype=float32)>"
      ]
     },
     "execution_count": 73,
     "metadata": {},
     "output_type": "execute_result"
    }
   ],
   "source": [
    "two_multivariate_normals.log_prob([[[1., 2., 3.]], [[3., 4., 5.]]]) # Input has shape [2,1,3]."
   ]
  },
  {
   "cell_type": "code",
   "execution_count": 75,
   "metadata": {},
   "outputs": [
    {
     "data": {
      "text/plain": [
       "<tf.Tensor: shape=(2, 2), dtype=float32, numpy=\n",
       "array([[-2.7568154, -4.836257 ],\n",
       "       [-8.756816 , -6.336257 ]], dtype=float32)>"
      ]
     },
     "execution_count": 75,
     "metadata": {},
     "output_type": "execute_result"
    }
   ],
   "source": [
    "two_multivariate_normals.log_prob(\n",
    "    tf.constant([[1., 2., 3.], [3., 4., 5.]])[:, tf.newaxis, :]) # Equivalent to above."
   ]
  },
  {
   "cell_type": "code",
   "execution_count": 76,
   "metadata": {},
   "outputs": [
    {
     "data": {
      "text/plain": [
       "<tf.Tensor: shape=(2,), dtype=float32, numpy=array([-2.7568154, -6.336257 ], dtype=float32)>"
      ]
     },
     "execution_count": 76,
     "metadata": {},
     "output_type": "execute_result"
    }
   ],
   "source": [
    "two_multivariate_normals.log_prob(tf.constant([[1., 2., 3.], [3., 4., 5.]]))"
   ]
  },
  {
   "cell_type": "markdown",
   "metadata": {},
   "source": [
    "# Shape Manipulation Techniques"
   ]
  },
  {
   "cell_type": "code",
   "execution_count": 5,
   "metadata": {},
   "outputs": [
    {
     "data": {
      "text/plain": [
       "<tfp.distributions.Multinomial 'Multinomial' batch_shape=[] event_shape=[6] dtype=float32>"
      ]
     },
     "execution_count": 5,
     "metadata": {},
     "output_type": "execute_result"
    }
   ],
   "source": [
    "six_way_multinomial = tfd.Multinomial(total_count=1000., probs=[.3, .25, .2, .15, .08, .02])\n",
    "six_way_multinomial"
   ]
  },
  {
   "cell_type": "code",
   "execution_count": 8,
   "metadata": {},
   "outputs": [
    {
     "data": {
      "text/plain": [
       "<tfp.distributions.TransformedDistribution 'reshapeMultinomial' batch_shape=[] event_shape=[2, 3] dtype=float32>"
      ]
     },
     "execution_count": 8,
     "metadata": {},
     "output_type": "execute_result"
    }
   ],
   "source": [
    "transformed_multinomial = tfd.TransformedDistribution(\n",
    "    distribution=six_way_multinomial,\n",
    "    bijector=tfb.Reshape(event_shape_out=[2, 3]))\n",
    "transformed_multinomial"
   ]
  },
  {
   "cell_type": "code",
   "execution_count": 9,
   "metadata": {},
   "outputs": [
    {
     "data": {
      "text/plain": [
       "<tf.Tensor: shape=(), dtype=float32, numpy=-178.21973>"
      ]
     },
     "execution_count": 9,
     "metadata": {},
     "output_type": "execute_result"
    }
   ],
   "source": [
    "six_way_multinomial.log_prob([500., 100., 100., 150., 100., 50.])"
   ]
  },
  {
   "cell_type": "code",
   "execution_count": 12,
   "metadata": {},
   "outputs": [
    {
     "data": {
      "text/plain": [
       "<tf.Tensor: shape=(), dtype=float32, numpy=-178.21973>"
      ]
     },
     "execution_count": 12,
     "metadata": {},
     "output_type": "execute_result"
    }
   ],
   "source": [
    "transformed_multinomial.log_prob([[500., 100., 100.], [150., 100., 50.]])"
   ]
  },
  {
   "cell_type": "code",
   "execution_count": 10,
   "metadata": {},
   "outputs": [
    {
     "data": {
      "text/plain": [
       "<tf.Tensor: shape=(1, 6), dtype=float32, numpy=array([[303., 241., 223., 137.,  77.,  19.]], dtype=float32)>"
      ]
     },
     "execution_count": 10,
     "metadata": {},
     "output_type": "execute_result"
    }
   ],
   "source": [
    "sample_tensor = six_way_multinomial.sample(1)\n",
    "sample_tensor"
   ]
  },
  {
   "cell_type": "code",
   "execution_count": 11,
   "metadata": {},
   "outputs": [
    {
     "data": {
      "text/plain": [
       "<tf.Tensor: shape=(1,), dtype=float32, numpy=array([2.1157643e-08], dtype=float32)>"
      ]
     },
     "metadata": {},
     "output_type": "display_data"
    },
    {
     "data": {
      "text/plain": [
       "<tf.Tensor: shape=(1,), dtype=float32, numpy=array([-17.671265], dtype=float32)>"
      ]
     },
     "metadata": {},
     "output_type": "display_data"
    }
   ],
   "source": [
    "display(six_way_multinomial.prob(sample_tensor))\n",
    "display(six_way_multinomial.log_prob(sample_tensor))"
   ]
  },
  {
   "cell_type": "code",
   "execution_count": null,
   "metadata": {},
   "outputs": [],
   "source": []
  },
  {
   "cell_type": "code",
   "execution_count": 13,
   "metadata": {},
   "outputs": [
    {
     "data": {
      "text/plain": [
       "<tfp.distributions.Bernoulli 'Two_By_Five_Bernoulli' batch_shape=[2, 5] event_shape=[] dtype=int32>"
      ]
     },
     "execution_count": 13,
     "metadata": {},
     "output_type": "execute_result"
    }
   ],
   "source": [
    "two_by_five_bernoulli = tfd.Bernoulli(\n",
    "    probs=[[.05, .1, .15, .2, .25], [.3, .35, .4, .45, .5]],\n",
    "    name=\"Two By Five Bernoulli\")\n",
    "two_by_five_bernoulli"
   ]
  },
  {
   "cell_type": "code",
   "execution_count": 14,
   "metadata": {},
   "outputs": [
    {
     "data": {
      "text/plain": [
       "<tf.Tensor: shape=(2, 5), dtype=float32, numpy=\n",
       "array([[-2.9957323 , -0.10536052, -0.16251893, -1.609438  , -0.28768206],\n",
       "       [-0.35667497, -0.4307829 , -0.9162907 , -0.79850775, -0.6931472 ]],\n",
       "      dtype=float32)>"
      ]
     },
     "execution_count": 14,
     "metadata": {},
     "output_type": "execute_result"
    }
   ],
   "source": [
    "pattern = [[1., 0., 0., 1., 0.], [0., 0., 1., 1., 1.]]\n",
    "two_by_five_bernoulli.log_prob(pattern)"
   ]
  },
  {
   "cell_type": "code",
   "execution_count": 15,
   "metadata": {},
   "outputs": [
    {
     "data": {
      "text/plain": [
       "<tfp.distributions.Independent 'Two_Sets_Of_Five' batch_shape=[2] event_shape=[5] dtype=int32>"
      ]
     },
     "execution_count": 15,
     "metadata": {},
     "output_type": "execute_result"
    }
   ],
   "source": [
    "two_sets_of_five = tfd.Independent(\n",
    "    distribution=two_by_five_bernoulli,\n",
    "    reinterpreted_batch_ndims=1,\n",
    "    name=\"Two Sets Of Five\")\n",
    "two_sets_of_five"
   ]
  },
  {
   "cell_type": "code",
   "execution_count": 16,
   "metadata": {},
   "outputs": [
    {
     "data": {
      "text/plain": [
       "<tf.Tensor: shape=(2,), dtype=float32, numpy=array([-5.160732 , -3.1954036], dtype=float32)>"
      ]
     },
     "execution_count": 16,
     "metadata": {},
     "output_type": "execute_result"
    }
   ],
   "source": [
    "two_sets_of_five.log_prob(pattern)"
   ]
  },
  {
   "cell_type": "code",
   "execution_count": 18,
   "metadata": {},
   "outputs": [
    {
     "data": {
      "text/plain": [
       "<tf.Tensor: shape=(2,), dtype=float32, numpy=array([-5.160732 , -3.1954036], dtype=float32)>"
      ]
     },
     "execution_count": 18,
     "metadata": {},
     "output_type": "execute_result"
    }
   ],
   "source": [
    "tf.reduce_sum(two_by_five_bernoulli.log_prob(pattern), axis=1)"
   ]
  },
  {
   "cell_type": "code",
   "execution_count": null,
   "metadata": {},
   "outputs": [],
   "source": []
  },
  {
   "cell_type": "code",
   "execution_count": 19,
   "metadata": {},
   "outputs": [
    {
     "data": {
      "text/plain": [
       "<tfp.distributions.Independent 'One_Set_Of_Two_By_Five' batch_shape=[] event_shape=[2, 5] dtype=int32>"
      ]
     },
     "execution_count": 19,
     "metadata": {},
     "output_type": "execute_result"
    }
   ],
   "source": [
    "one_set_of_two_by_five = tfd.Independent(\n",
    "    distribution=two_by_five_bernoulli, reinterpreted_batch_ndims=2,\n",
    "    name=\"One Set Of Two By Five\")\n",
    "one_set_of_two_by_five"
   ]
  },
  {
   "cell_type": "code",
   "execution_count": 20,
   "metadata": {},
   "outputs": [
    {
     "data": {
      "text/plain": [
       "<tfp.distributions.Independent 'One_Set_Of_Two_By_Five' batch_shape=[2, 5] event_shape=[] dtype=int32>"
      ]
     },
     "execution_count": 20,
     "metadata": {},
     "output_type": "execute_result"
    }
   ],
   "source": [
    "one_set_of_two_by_five = tfd.Independent(\n",
    "    distribution=two_by_five_bernoulli, reinterpreted_batch_ndims=0,\n",
    "    name=\"One Set Of Two By Five\")\n",
    "one_set_of_two_by_five"
   ]
  },
  {
   "cell_type": "code",
   "execution_count": null,
   "metadata": {},
   "outputs": [],
   "source": []
  }
 ],
 "metadata": {
  "kernelspec": {
   "display_name": "Python 3 (ipykernel)",
   "language": "python",
   "name": "python3"
  },
  "language_info": {
   "codemirror_mode": {
    "name": "ipython",
    "version": 3
   },
   "file_extension": ".py",
   "mimetype": "text/x-python",
   "name": "python",
   "nbconvert_exporter": "python",
   "pygments_lexer": "ipython3",
   "version": "3.8.13"
  }
 },
 "nbformat": 4,
 "nbformat_minor": 4
}
