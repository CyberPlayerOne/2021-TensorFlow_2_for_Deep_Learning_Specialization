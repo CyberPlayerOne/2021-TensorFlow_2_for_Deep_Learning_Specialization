{
 "cells": [
  {
   "cell_type": "markdown",
   "metadata": {
    "pycharm": {
     "name": "#%% md\n"
    }
   },
   "source": [
    "\n",
    "# 01_subclassing-bijectors"
   ]
  },
  {
   "cell_type": "code",
   "execution_count": 1,
   "metadata": {
    "collapsed": false,
    "jupyter": {
     "outputs_hidden": false
    },
    "pycharm": {
     "name": "#%%\n"
    }
   },
   "outputs": [
    {
     "name": "stdout",
     "output_type": "stream",
     "text": [
      "/usr/bin/python3\n"
     ]
    }
   ],
   "source": [
    "import numpy as np\n",
    "!which python3"
   ]
  },
  {
   "cell_type": "markdown",
   "metadata": {
    "pycharm": {
     "name": "#%% md\n"
    }
   },
   "source": [
    "## 推导log_det_jacobian of sigmoid function"
   ]
  },
  {
   "cell_type": "markdown",
   "metadata": {
    "pycharm": {
     "name": "#%% md\n"
    }
   },
   "source": [
    "Bijector\n",
    "Here: Sigmoid function - https://en.wikipedia.org/wiki/Sigmoid_function\n",
    "<br>\n",
    "$S(x) = \\dfrac{1}{1+e^{-x}} = \\dfrac{e^x}{e^x+1}$"
   ]
  },
  {
   "cell_type": "markdown",
   "metadata": {
    "pycharm": {
     "name": "#%% md\n"
    }
   },
   "source": [
    "Jacobian matrix - p201, [2020][4.3]Probabilistic Deep Learning - With Python, Keras and TensorFlow Probability[重要]\n",
    "Here: Sigmoid function's derivative - https://towardsdatascience.com/derivative-of-the-sigmoid-function-536880cf918e\n",
    "<br>\n",
    "$S'(x) = S(x)(1-S(x))$"
   ]
  },
  {
   "cell_type": "markdown",
   "metadata": {
    "pycharm": {
     "name": "#%% md\n"
    }
   },
   "source": [
    "Since the event dimension is 1, the Jacobian matrix is a scalar, which is also its determinant. Therefore,\n",
    "<br>\n",
    "Logrithm of determinant of Jacobian matrix of sigmoid function as the bijector function\n",
    "$log(|S'(x)|) = log(S(x)) + log(1-S(x)) = -log(e^{-x}+1)  - log(e^x+1)$\n",
    "<br>\n",
    "Note, Softplus function - https://en.wikipedia.org/wiki/Rectifier_(neural_networks)#Softplus\n",
    "$softplus(x)=log(1+e^x)$\n",
    "<br>\n",
    "Therefore,\n",
    "$log(|S'(x)|) = -softplus(-x)-softplus(x)$"
   ]
  },
  {
   "cell_type": "markdown",
   "metadata": {
    "pycharm": {
     "name": "#%% md\n"
    }
   },
   "source": [
    "至于inverse_log_det_jacobian，他与forward_log_det_jacobian的关系，详见：[202103]Building Probability Distributions with the TensorFlow Probability Bijector API _ Louis Tiao.pdf"
   ]
  },
  {
   "cell_type": "markdown",
   "metadata": {
    "pycharm": {
     "name": "#%% md\n"
    }
   },
   "source": [
    "# 02_coding-tutorial-subclassing-bijectors"
   ]
  },
  {
   "cell_type": "code",
   "execution_count": 1,
   "metadata": {
    "collapsed": false,
    "jupyter": {
     "outputs_hidden": false
    },
    "pycharm": {
     "name": "#%%\n"
    }
   },
   "outputs": [
    {
     "name": "stderr",
     "output_type": "stream",
     "text": [
      "2022-05-05 12:15:12.454002: I tensorflow/stream_executor/cuda/cuda_gpu_executor.cc:936] successful NUMA node read from SysFS had negative value (-1), but there must be at least one NUMA node, so returning NUMA node zero\n",
      "2022-05-05 12:15:12.461067: I tensorflow/stream_executor/cuda/cuda_gpu_executor.cc:936] successful NUMA node read from SysFS had negative value (-1), but there must be at least one NUMA node, so returning NUMA node zero\n",
      "2022-05-05 12:15:12.461371: I tensorflow/stream_executor/cuda/cuda_gpu_executor.cc:936] successful NUMA node read from SysFS had negative value (-1), but there must be at least one NUMA node, so returning NUMA node zero\n"
     ]
    }
   ],
   "source": [
    "import tensorflow as tf\n",
    "import tensorflow_probability as tfp\n",
    "tfb = tfp.bijectors\n",
    "tfd = tfp.distributions\n",
    "import numpy as np\n",
    "import matplotlib.pyplot as plt\n",
    "\n",
    "gpus = tf.config.list_physical_devices('GPU')\n",
    "tf.config.experimental.set_memory_growth(gpus[0], True)"
   ]
  },
  {
   "cell_type": "code",
   "execution_count": 134,
   "metadata": {
    "collapsed": false,
    "jupyter": {
     "outputs_hidden": false
    },
    "pycharm": {
     "name": "#%%\n"
    }
   },
   "outputs": [],
   "source": [
    "# from tensorflow_probability.python.internal import parameter_properties\n",
    "# Define a new bijector: Cubic\n",
    "class Cubic(tfb.Bijector):\n",
    "\n",
    "    def __init__(self, a, b, validate_args=False, name='Cubic'):\n",
    "        self.a = tf.cast(a, tf.float32)\n",
    "        self.b = tf.cast(b, tf.float32)\n",
    "        if validate_args:\n",
    "            assert tf.reduce_mean(tf.cast(tf.math.greater_equal(tf.abs(self.a), 1e-5), tf.float32)) == 1.0\n",
    "            assert tf.reduce_mean(tf.cast(tf.math.greater_equal(tf.abs(self.b), 1e-5), tf.float32)) == 1.0\n",
    "        super(Cubic, self).__init__(validate_args=validate_args, forward_min_event_ndims=0, name=name)\n",
    "\n",
    "    def _forward(self, x):\n",
    "        x = tf.cast(x, tf.float32)\n",
    "        return tf.squeeze(tf.pow(self.a * x + self.b, 3))\n",
    "\n",
    "    def _inverse(self, y):\n",
    "        y = tf.cast(y, tf.float32)\n",
    "        return (tf.math.sign(y) * tf.pow(tf.abs(y), 1/3) - self.b) / self.a\n",
    "\n",
    "    def _forward_log_det_jacobian(self, x):\n",
    "        x = tf.cast(x, tf.float32)\n",
    "        return tf.math.log(3. * tf.abs(self.a)) + 2. * tf.math.log(tf.abs(self.a * x + self.b))\n",
    "    #\n",
    "    # @classmethod\n",
    "    # def _parameter_properties(cls, dtype):\n",
    "    #     return {'cubic': parameter_properties.ParameterProperties()}"
   ]
  },
  {
   "cell_type": "code",
   "execution_count": 135,
   "outputs": [
    {
     "ename": "NotImplementedError",
     "evalue": "_parameter_properties` is not implemented: Cubic",
     "output_type": "error",
     "traceback": [
      "\u001B[0;31m---------------------------------------------------------------------------\u001B[0m",
      "\u001B[0;31mNotImplementedError\u001B[0m                       Traceback (most recent call last)",
      "Input \u001B[0;32mIn [135]\u001B[0m, in \u001B[0;36m<cell line: 1>\u001B[0;34m()\u001B[0m\n\u001B[0;32m----> 1\u001B[0m \u001B[43mCubic\u001B[49m\u001B[38;5;241;43m.\u001B[39;49m\u001B[43m_parameter_properties\u001B[49m\u001B[43m(\u001B[49m\u001B[38;5;28;43;01mNone\u001B[39;49;00m\u001B[43m)\u001B[49m\n",
      "File \u001B[0;32m~/miniconda3/envs/dev_env/lib/python3.8/site-packages/tensorflow_probability/python/bijectors/bijector.py:1296\u001B[0m, in \u001B[0;36mBijector._parameter_properties\u001B[0;34m(cls, dtype)\u001B[0m\n\u001B[1;32m   1294\u001B[0m \u001B[38;5;129m@classmethod\u001B[39m\n\u001B[1;32m   1295\u001B[0m \u001B[38;5;28;01mdef\u001B[39;00m \u001B[38;5;21m_parameter_properties\u001B[39m(\u001B[38;5;28mcls\u001B[39m, dtype):\n\u001B[0;32m-> 1296\u001B[0m   \u001B[38;5;28;01mraise\u001B[39;00m \u001B[38;5;167;01mNotImplementedError\u001B[39;00m(\n\u001B[1;32m   1297\u001B[0m       \u001B[38;5;124m'\u001B[39m\u001B[38;5;124m_parameter_properties` is not implemented: \u001B[39m\u001B[38;5;132;01m{}\u001B[39;00m\u001B[38;5;124m'\u001B[39m\u001B[38;5;241m.\u001B[39mformat(\u001B[38;5;28mcls\u001B[39m\u001B[38;5;241m.\u001B[39m\u001B[38;5;18m__name__\u001B[39m))\n",
      "\u001B[0;31mNotImplementedError\u001B[0m: _parameter_properties` is not implemented: Cubic"
     ]
    }
   ],
   "source": [
    "Cubic._parameter_properties(None)"
   ],
   "metadata": {
    "collapsed": false,
    "pycharm": {
     "name": "#%%\n"
    }
   }
  },
  {
   "cell_type": "code",
   "execution_count": 136,
   "metadata": {
    "collapsed": false,
    "jupyter": {
     "outputs_hidden": false
    },
    "pycharm": {
     "name": "#%%\n"
    }
   },
   "outputs": [
    {
     "data": {
      "text/plain": "<tf.Tensor: shape=(), dtype=float32, numpy=nan>"
     },
     "metadata": {},
     "output_type": "display_data"
    },
    {
     "data": {
      "text/plain": "<tf.Tensor: shape=(), dtype=float32, numpy=-2.0>"
     },
     "metadata": {},
     "output_type": "display_data"
    }
   ],
   "source": [
    "display(tf.pow(-8.,1/3))\n",
    "display(tf.sign(-8.)*tf.pow(8., 1/3))"
   ]
  },
  {
   "cell_type": "code",
   "execution_count": 137,
   "metadata": {
    "collapsed": false,
    "jupyter": {
     "outputs_hidden": false
    },
    "pycharm": {
     "name": "#%%\n"
    }
   },
   "outputs": [],
   "source": [
    "# Cubic bijector\n",
    "cubic = Cubic([1.0, -2.0], [-1.0, 0.4], validate_args=True) # 两个Bijector: (a:1, b:-1) {a:-2, b:0.4}, batch shape = [2]?.. event shape = [2]?"
   ]
  },
  {
   "cell_type": "code",
   "execution_count": 138,
   "metadata": {
    "collapsed": false,
    "jupyter": {
     "outputs_hidden": false
    },
    "pycharm": {
     "name": "#%%\n"
    }
   },
   "outputs": [
    {
     "data": {
      "text/plain": "<tfp.bijectors.Cubic 'Cubic' batch_shape=? forward_min_event_ndims=0 inverse_min_event_ndims=0 dtype_x=? dtype_y=?>"
     },
     "execution_count": 138,
     "metadata": {},
     "output_type": "execute_result"
    }
   ],
   "source": [
    "cubic"
   ]
  },
  {
   "cell_type": "code",
   "execution_count": 97,
   "outputs": [
    {
     "ename": "TypeError",
     "evalue": "'NoneType' object is not iterable",
     "output_type": "error",
     "traceback": [
      "\u001B[0;31m---------------------------------------------------------------------------\u001B[0m",
      "\u001B[0;31mTypeError\u001B[0m                                 Traceback (most recent call last)",
      "Input \u001B[0;32mIn [97]\u001B[0m, in \u001B[0;36m<cell line: 1>\u001B[0;34m()\u001B[0m\n\u001B[0;32m----> 1\u001B[0m \u001B[43mcubic\u001B[49m\u001B[38;5;241;43m.\u001B[39;49m\u001B[43mexperimental_batch_shape\u001B[49m\u001B[43m(\u001B[49m\u001B[43mx_event_ndims\u001B[49m\u001B[38;5;241;43m=\u001B[39;49m\u001B[38;5;241;43m1\u001B[39;49m\u001B[43m,\u001B[49m\u001B[43m)\u001B[49m\n",
      "File \u001B[0;32m~/miniconda3/envs/dev_env/lib/python3.8/site-packages/tensorflow_probability/python/bijectors/bijector.py:1225\u001B[0m, in \u001B[0;36mBijector.experimental_batch_shape\u001B[0;34m(self, x_event_ndims, y_event_ndims)\u001B[0m\n\u001B[1;32m   1222\u001B[0m key \u001B[38;5;241m=\u001B[39m _deep_tuple(x_event_ndims)  \u001B[38;5;66;03m# Avoid hashing lists/dicts.\u001B[39;00m\n\u001B[1;32m   1223\u001B[0m \u001B[38;5;28;01mif\u001B[39;00m key \u001B[38;5;129;01mnot\u001B[39;00m \u001B[38;5;129;01min\u001B[39;00m \u001B[38;5;28mself\u001B[39m\u001B[38;5;241m.\u001B[39m_cached_batch_shapes:\n\u001B[1;32m   1224\u001B[0m   \u001B[38;5;28mself\u001B[39m\u001B[38;5;241m.\u001B[39m_cached_batch_shapes[key] \u001B[38;5;241m=\u001B[39m tf\u001B[38;5;241m.\u001B[39mTensorShape(\n\u001B[0;32m-> 1225\u001B[0m       \u001B[38;5;28;43mself\u001B[39;49m\u001B[38;5;241;43m.\u001B[39;49m\u001B[43m_batch_shape\u001B[49m\u001B[43m(\u001B[49m\u001B[43mx_event_ndims\u001B[49m\u001B[43m)\u001B[49m)\n\u001B[1;32m   1226\u001B[0m \u001B[38;5;28;01mreturn\u001B[39;00m \u001B[38;5;28mself\u001B[39m\u001B[38;5;241m.\u001B[39m_cached_batch_shapes[key]\n",
      "File \u001B[0;32m~/miniconda3/envs/dev_env/lib/python3.8/site-packages/tensorflow_probability/python/bijectors/bijector.py:1173\u001B[0m, in \u001B[0;36mBijector._batch_shape\u001B[0;34m(self, x_event_ndims)\u001B[0m\n\u001B[1;32m   1166\u001B[0m   \u001B[38;5;28;01mreturn\u001B[39;00m tensorshape_util\u001B[38;5;241m.\u001B[39mconstant_value_as_shape([])\n\u001B[1;32m   1168\u001B[0m \u001B[38;5;66;03m# Infer batch shape from annotations returned by `_parameter_properties()`.\u001B[39;00m\n\u001B[1;32m   1169\u001B[0m \u001B[38;5;66;03m# Batch shape inference assumes that the provided and minimum event ndims\u001B[39;00m\n\u001B[1;32m   1170\u001B[0m \u001B[38;5;66;03m# differ by the same amount in all parts. Bijectors with multiple\u001B[39;00m\n\u001B[1;32m   1171\u001B[0m \u001B[38;5;66;03m# independent parts will need to override this method, or inherit from a\u001B[39;00m\n\u001B[1;32m   1172\u001B[0m \u001B[38;5;66;03m# class (such as Composition) that does so.\u001B[39;00m\n\u001B[0;32m-> 1173\u001B[0m \u001B[38;5;28;01mreturn\u001B[39;00m \u001B[43mbatch_shape_lib\u001B[49m\u001B[38;5;241;43m.\u001B[39;49m\u001B[43minferred_batch_shape\u001B[49m\u001B[43m(\u001B[49m\n\u001B[1;32m   1174\u001B[0m \u001B[43m    \u001B[49m\u001B[38;5;28;43mself\u001B[39;49m\u001B[43m,\u001B[49m\u001B[43m \u001B[49m\u001B[43mbijector_x_event_ndims\u001B[49m\u001B[38;5;241;43m=\u001B[39;49m\u001B[43mx_event_ndims\u001B[49m\u001B[43m)\u001B[49m\n",
      "File \u001B[0;32m~/miniconda3/envs/dev_env/lib/python3.8/site-packages/tensorflow_probability/python/internal/batch_shape_lib.py:68\u001B[0m, in \u001B[0;36minferred_batch_shape\u001B[0;34m(batch_object, bijector_x_event_ndims)\u001B[0m\n\u001B[1;32m     40\u001B[0m \u001B[38;5;28;01mdef\u001B[39;00m \u001B[38;5;21minferred_batch_shape\u001B[39m(batch_object, bijector_x_event_ndims\u001B[38;5;241m=\u001B[39m\u001B[38;5;28;01mNone\u001B[39;00m):\n\u001B[1;32m     41\u001B[0m   \u001B[38;5;124;03m\"\"\"Infers an object's batch shape from its  parameters.\u001B[39;00m\n\u001B[1;32m     42\u001B[0m \n\u001B[1;32m     43\u001B[0m \u001B[38;5;124;03m  Each parameter contributes a batch shape of\u001B[39;00m\n\u001B[0;32m   (...)\u001B[0m\n\u001B[1;32m     66\u001B[0m \u001B[38;5;124;03m        be partially defined or unknown.\u001B[39;00m\n\u001B[1;32m     67\u001B[0m \u001B[38;5;124;03m  \"\"\"\u001B[39;00m\n\u001B[0;32m---> 68\u001B[0m   batch_shapes \u001B[38;5;241m=\u001B[39m \u001B[43mmap_fn_over_parameters_with_event_ndims\u001B[49m\u001B[43m(\u001B[49m\n\u001B[1;32m     69\u001B[0m \u001B[43m      \u001B[49m\u001B[43mbatch_object\u001B[49m\u001B[43m,\u001B[49m\n\u001B[1;32m     70\u001B[0m \u001B[43m      \u001B[49m\u001B[43mget_batch_shape_part\u001B[49m\u001B[43m,\u001B[49m\n\u001B[1;32m     71\u001B[0m \u001B[43m      \u001B[49m\u001B[43mrequire_static\u001B[49m\u001B[38;5;241;43m=\u001B[39;49m\u001B[38;5;28;43;01mTrue\u001B[39;49;00m\u001B[43m,\u001B[49m\n\u001B[1;32m     72\u001B[0m \u001B[43m      \u001B[49m\u001B[43mbijector_x_event_ndims\u001B[49m\u001B[38;5;241;43m=\u001B[39;49m\u001B[43mbijector_x_event_ndims\u001B[49m\u001B[43m)\u001B[49m\n\u001B[1;32m     73\u001B[0m   \u001B[38;5;28;01mreturn\u001B[39;00m functools\u001B[38;5;241m.\u001B[39mreduce(tf\u001B[38;5;241m.\u001B[39mbroadcast_static_shape,\n\u001B[1;32m     74\u001B[0m                           tf\u001B[38;5;241m.\u001B[39mnest\u001B[38;5;241m.\u001B[39mflatten(batch_shapes),\n\u001B[1;32m     75\u001B[0m                           tf\u001B[38;5;241m.\u001B[39mTensorShape([]))\n",
      "File \u001B[0;32m~/miniconda3/envs/dev_env/lib/python3.8/site-packages/tensorflow_probability/python/internal/batch_shape_lib.py:327\u001B[0m, in \u001B[0;36mmap_fn_over_parameters_with_event_ndims\u001B[0;34m(batch_object, fn, bijector_x_event_ndims, require_static, **parameter_kwargs)\u001B[0m\n\u001B[1;32m    318\u001B[0m   \u001B[38;5;28;01mif\u001B[39;00m kwarg \u001B[38;5;129;01mnot\u001B[39;00m \u001B[38;5;129;01min\u001B[39;00m parameter_properties:\n\u001B[1;32m    319\u001B[0m     logging\u001B[38;5;241m.\u001B[39mwarning(\n\u001B[1;32m    320\u001B[0m         \u001B[38;5;124m'\u001B[39m\u001B[38;5;124mKeyword argument `\u001B[39m\u001B[38;5;132;01m%s\u001B[39;00m\u001B[38;5;124m` was not expected and will be ignored. \u001B[39m\u001B[38;5;124m'\u001B[39m\n\u001B[1;32m    321\u001B[0m         \u001B[38;5;124m'\u001B[39m\u001B[38;5;124mExpected any of the parameters: \u001B[39m\u001B[38;5;132;01m%s\u001B[39;00m\u001B[38;5;124m. Any of \u001B[39m\u001B[38;5;124m'\u001B[39m\n\u001B[0;32m   (...)\u001B[0m\n\u001B[1;32m    324\u001B[0m         \u001B[38;5;124m'\u001B[39m\u001B[38;5;124mconversions if they were not already specified as Tensors.\u001B[39m\u001B[38;5;124m'\u001B[39m, kwarg,\n\u001B[1;32m    325\u001B[0m         parameter_properties\u001B[38;5;241m.\u001B[39mkeys())\n\u001B[0;32m--> 327\u001B[0m \u001B[38;5;28;01mfor\u001B[39;00m param_name, param \u001B[38;5;129;01min\u001B[39;00m \u001B[38;5;28;43mdict\u001B[39;49m\u001B[43m(\u001B[49m\u001B[43mbatch_object\u001B[49m\u001B[38;5;241;43m.\u001B[39;49m\u001B[43mparameters\u001B[49m\u001B[43m,\u001B[49m\n\u001B[1;32m    328\u001B[0m \u001B[43m                              \u001B[49m\u001B[38;5;241;43m*\u001B[39;49m\u001B[38;5;241;43m*\u001B[39;49m\u001B[43mparameter_kwargs\u001B[49m\u001B[43m)\u001B[49m\u001B[38;5;241m.\u001B[39mitems():\n\u001B[1;32m    329\u001B[0m   \u001B[38;5;28;01mif\u001B[39;00m param \u001B[38;5;129;01mis\u001B[39;00m \u001B[38;5;28;01mNone\u001B[39;00m:\n\u001B[1;32m    330\u001B[0m     \u001B[38;5;28;01mcontinue\u001B[39;00m\n",
      "\u001B[0;31mTypeError\u001B[0m: 'NoneType' object is not iterable"
     ]
    }
   ],
   "source": [
    "cubic.experimental_batch_shape(x_event_ndims=1,)"
   ],
   "metadata": {
    "collapsed": false,
    "pycharm": {
     "name": "#%%\n"
    }
   }
  },
  {
   "cell_type": "code",
   "execution_count": 98,
   "metadata": {
    "collapsed": false,
    "jupyter": {
     "outputs_hidden": false
    },
    "pycharm": {
     "name": "#%%\n"
    }
   },
   "outputs": [
    {
     "data": {
      "text/plain": "TensorShape([2, 2])"
     },
     "metadata": {},
     "output_type": "display_data"
    },
    {
     "data": {
      "text/plain": "<tf.Tensor: shape=(2, 2), dtype=float32, numpy=\narray([[   0.     ,  -46.656  ],\n       [   8.     , -438.97598]], dtype=float32)>"
     },
     "execution_count": 98,
     "metadata": {},
     "output_type": "execute_result"
    }
   ],
   "source": [
    "# Apply forward transformation\n",
    "x = tf.constant([[1, 2], [3, 4]])\n",
    "display(x.shape)\n",
    "y = cubic.forward(x)\n",
    "y"
   ]
  },
  {
   "cell_type": "markdown",
   "source": [
    "test"
   ],
   "metadata": {
    "collapsed": false,
    "pycharm": {
     "name": "#%% md\n"
    }
   }
  },
  {
   "cell_type": "code",
   "execution_count": 99,
   "outputs": [
    {
     "data": {
      "text/plain": "(0, -4.096000000000001)"
     },
     "execution_count": 99,
     "metadata": {},
     "output_type": "execute_result"
    }
   ],
   "source": [
    "v=1\n",
    "np.power(1*v+-1, 3), np.power(-2*v+0.4, 3)"
   ],
   "metadata": {
    "collapsed": false,
    "pycharm": {
     "name": "#%%\n"
    }
   }
  },
  {
   "cell_type": "code",
   "execution_count": 100,
   "metadata": {
    "collapsed": false,
    "jupyter": {
     "outputs_hidden": false
    },
    "pycharm": {
     "name": "#%%\n"
    }
   },
   "outputs": [
    {
     "data": {
      "text/plain": "0.0"
     },
     "execution_count": 100,
     "metadata": {},
     "output_type": "execute_result"
    }
   ],
   "source": [
    "# Check inverse\n",
    "np.linalg.norm(x - cubic.inverse(y))"
   ]
  },
  {
   "cell_type": "code",
   "execution_count": 101,
   "metadata": {
    "collapsed": false,
    "jupyter": {
     "outputs_hidden": false
    },
    "pycharm": {
     "name": "#%%\n"
    }
   },
   "outputs": [
    {
     "data": {
      "text/plain": "<tf.Tensor: shape=(1, 2), dtype=int32, numpy=array([[1, 2]], dtype=int32)>"
     },
     "metadata": {},
     "output_type": "display_data"
    },
    {
     "data": {
      "text/plain": "<tf.Tensor: shape=(2,), dtype=float32, numpy=array([  0.   , -46.656], dtype=float32)>"
     },
     "execution_count": 101,
     "metadata": {},
     "output_type": "execute_result"
    }
   ],
   "source": [
    "x = tf.constant([[1, 2]])\n",
    "display(x)\n",
    "cubic.forward(x)"
   ]
  },
  {
   "cell_type": "code",
   "execution_count": 102,
   "metadata": {
    "collapsed": false,
    "jupyter": {
     "outputs_hidden": false
    },
    "pycharm": {
     "name": "#%%\n"
    }
   },
   "outputs": [
    {
     "data": {
      "text/plain": "<tf.Tensor: shape=(2,), dtype=int32, numpy=array([1, 2], dtype=int32)>"
     },
     "metadata": {},
     "output_type": "display_data"
    },
    {
     "data": {
      "text/plain": "<tf.Tensor: shape=(2,), dtype=float32, numpy=array([  0.   , -46.656], dtype=float32)>"
     },
     "execution_count": 102,
     "metadata": {},
     "output_type": "execute_result"
    }
   ],
   "source": [
    "x = tf.constant([1, 2])\n",
    "display(x)\n",
    "cubic.forward(x)"
   ]
  },
  {
   "cell_type": "markdown",
   "metadata": {
    "pycharm": {
     "name": "#%% md\n"
    }
   },
   "source": [
    "Understanding TensorFlow Distributions Shapes"
   ]
  },
  {
   "cell_type": "code",
   "execution_count": 103,
   "metadata": {
    "collapsed": false,
    "jupyter": {
     "outputs_hidden": false
    },
    "pycharm": {
     "name": "#%%\n"
    }
   },
   "outputs": [
    {
     "data": {
      "text/plain": "array([1, 2])"
     },
     "metadata": {},
     "output_type": "display_data"
    },
    {
     "data": {
      "text/plain": "<tf.Tensor: shape=(2,), dtype=float32, numpy=array([  0.   , -46.656], dtype=float32)>"
     },
     "metadata": {},
     "output_type": "display_data"
    },
    {
     "data": {
      "text/plain": "array([[1],\n       [2]])"
     },
     "metadata": {},
     "output_type": "display_data"
    },
    {
     "data": {
      "text/plain": "<tf.Tensor: shape=(2, 2), dtype=float32, numpy=\narray([[  0.   ,  -4.096],\n       [  1.   , -46.656]], dtype=float32)>"
     },
     "metadata": {},
     "output_type": "display_data"
    }
   ],
   "source": [
    "x = np.array([1,2])\n",
    "display(x)\n",
    "display(cubic.forward(x))\n",
    "\n",
    "x = np.array([1,2]).reshape(-1,1)\n",
    "display(x)\n",
    "display(cubic.forward(x)) # broadcasting occurs"
   ]
  },
  {
   "cell_type": "code",
   "execution_count": 104,
   "metadata": {
    "collapsed": false,
    "jupyter": {
     "outputs_hidden": false
    },
    "pycharm": {
     "name": "#%%\n"
    }
   },
   "outputs": [
    {
     "data": {
      "text/plain": "<tf.Tensor: shape=(2,), dtype=float32, numpy=array([ 0.   , -4.096], dtype=float32)>"
     },
     "metadata": {},
     "output_type": "display_data"
    },
    {
     "data": {
      "text/plain": "<tf.Tensor: shape=(2,), dtype=float32, numpy=array([  1.   , -46.656], dtype=float32)>"
     },
     "metadata": {},
     "output_type": "display_data"
    }
   ],
   "source": [
    "x = tf.constant(1)\n",
    "display(cubic.forward(x))\n",
    "x = tf.constant(2)\n",
    "display(cubic.forward(x))"
   ]
  },
  {
   "cell_type": "code",
   "execution_count": 105,
   "outputs": [
    {
     "data": {
      "text/plain": "array([1, 2, 3])"
     },
     "metadata": {},
     "output_type": "display_data"
    },
    {
     "name": "stderr",
     "output_type": "stream",
     "text": [
      "2022-05-04 14:17:39.225732: W tensorflow/core/framework/op_kernel.cc:1733] INVALID_ARGUMENT: required broadcastable shapes\n"
     ]
    },
    {
     "ename": "InvalidArgumentError",
     "evalue": "required broadcastable shapes [Op:Mul]",
     "output_type": "error",
     "traceback": [
      "\u001B[0;31m---------------------------------------------------------------------------\u001B[0m",
      "\u001B[0;31mInvalidArgumentError\u001B[0m                      Traceback (most recent call last)",
      "Input \u001B[0;32mIn [105]\u001B[0m, in \u001B[0;36m<cell line: 3>\u001B[0;34m()\u001B[0m\n\u001B[1;32m      1\u001B[0m x \u001B[38;5;241m=\u001B[39m np\u001B[38;5;241m.\u001B[39marray([\u001B[38;5;241m1\u001B[39m,\u001B[38;5;241m2\u001B[39m,\u001B[38;5;241m3\u001B[39m])\n\u001B[1;32m      2\u001B[0m display(x)\n\u001B[0;32m----> 3\u001B[0m display(\u001B[43mcubic\u001B[49m\u001B[38;5;241;43m.\u001B[39;49m\u001B[43mforward\u001B[49m\u001B[43m(\u001B[49m\u001B[43mx\u001B[49m\u001B[43m)\u001B[49m)\n",
      "File \u001B[0;32m~/miniconda3/envs/dev_env/lib/python3.8/site-packages/tensorflow_probability/python/bijectors/bijector.py:1368\u001B[0m, in \u001B[0;36mBijector.forward\u001B[0;34m(self, x, name, **kwargs)\u001B[0m\n\u001B[1;32m   1352\u001B[0m \u001B[38;5;28;01mdef\u001B[39;00m \u001B[38;5;21mforward\u001B[39m(\u001B[38;5;28mself\u001B[39m, x, name\u001B[38;5;241m=\u001B[39m\u001B[38;5;124m'\u001B[39m\u001B[38;5;124mforward\u001B[39m\u001B[38;5;124m'\u001B[39m, \u001B[38;5;241m*\u001B[39m\u001B[38;5;241m*\u001B[39mkwargs):\n\u001B[1;32m   1353\u001B[0m   \u001B[38;5;124;03m\"\"\"Returns the forward `Bijector` evaluation, i.e., X = g(Y).\u001B[39;00m\n\u001B[1;32m   1354\u001B[0m \n\u001B[1;32m   1355\u001B[0m \u001B[38;5;124;03m  Args:\u001B[39;00m\n\u001B[0;32m   (...)\u001B[0m\n\u001B[1;32m   1366\u001B[0m \u001B[38;5;124;03m    NotImplementedError: if `_forward` is not implemented.\u001B[39;00m\n\u001B[1;32m   1367\u001B[0m \u001B[38;5;124;03m  \"\"\"\u001B[39;00m\n\u001B[0;32m-> 1368\u001B[0m   \u001B[38;5;28;01mreturn\u001B[39;00m \u001B[38;5;28;43mself\u001B[39;49m\u001B[38;5;241;43m.\u001B[39;49m\u001B[43m_call_forward\u001B[49m\u001B[43m(\u001B[49m\u001B[43mx\u001B[49m\u001B[43m,\u001B[49m\u001B[43m \u001B[49m\u001B[43mname\u001B[49m\u001B[43m,\u001B[49m\u001B[43m \u001B[49m\u001B[38;5;241;43m*\u001B[39;49m\u001B[38;5;241;43m*\u001B[39;49m\u001B[43mkwargs\u001B[49m\u001B[43m)\u001B[49m\n",
      "File \u001B[0;32m~/miniconda3/envs/dev_env/lib/python3.8/site-packages/tensorflow_probability/python/bijectors/bijector.py:1350\u001B[0m, in \u001B[0;36mBijector._call_forward\u001B[0;34m(self, x, name, **kwargs)\u001B[0m\n\u001B[1;32m   1348\u001B[0m \u001B[38;5;28;01mif\u001B[39;00m \u001B[38;5;129;01mnot\u001B[39;00m \u001B[38;5;28mself\u001B[39m\u001B[38;5;241m.\u001B[39m_is_injective:  \u001B[38;5;66;03m# No caching for non-injective\u001B[39;00m\n\u001B[1;32m   1349\u001B[0m   \u001B[38;5;28;01mreturn\u001B[39;00m \u001B[38;5;28mself\u001B[39m\u001B[38;5;241m.\u001B[39m_forward(x, \u001B[38;5;241m*\u001B[39m\u001B[38;5;241m*\u001B[39mkwargs)\n\u001B[0;32m-> 1350\u001B[0m \u001B[38;5;28;01mreturn\u001B[39;00m \u001B[38;5;28;43mself\u001B[39;49m\u001B[38;5;241;43m.\u001B[39;49m\u001B[43m_cache\u001B[49m\u001B[38;5;241;43m.\u001B[39;49m\u001B[43mforward\u001B[49m\u001B[43m(\u001B[49m\u001B[43mx\u001B[49m\u001B[43m,\u001B[49m\u001B[43m \u001B[49m\u001B[38;5;241;43m*\u001B[39;49m\u001B[38;5;241;43m*\u001B[39;49m\u001B[43mkwargs\u001B[49m\u001B[43m)\u001B[49m\n",
      "File \u001B[0;32m~/miniconda3/envs/dev_env/lib/python3.8/site-packages/tensorflow_probability/python/internal/cache_util.py:334\u001B[0m, in \u001B[0;36mBijectorCache.forward\u001B[0;34m(self, x, **kwargs)\u001B[0m\n\u001B[1;32m    323\u001B[0m \u001B[38;5;28;01mdef\u001B[39;00m \u001B[38;5;21mforward\u001B[39m(\u001B[38;5;28mself\u001B[39m, x, \u001B[38;5;241m*\u001B[39m\u001B[38;5;241m*\u001B[39mkwargs):\n\u001B[1;32m    324\u001B[0m   \u001B[38;5;124;03m\"\"\"Invokes the 'forward' transformation, or looks up previous results.\u001B[39;00m\n\u001B[1;32m    325\u001B[0m \n\u001B[1;32m    326\u001B[0m \u001B[38;5;124;03m  Args:\u001B[39;00m\n\u001B[0;32m   (...)\u001B[0m\n\u001B[1;32m    332\u001B[0m \u001B[38;5;124;03m    The output of the bijector's `_forward` method, or a cached result.\u001B[39;00m\n\u001B[1;32m    333\u001B[0m \u001B[38;5;124;03m  \"\"\"\u001B[39;00m\n\u001B[0;32m--> 334\u001B[0m   \u001B[38;5;28;01mreturn\u001B[39;00m \u001B[38;5;28;43mself\u001B[39;49m\u001B[38;5;241;43m.\u001B[39;49m\u001B[43m_lookup\u001B[49m\u001B[43m(\u001B[49m\u001B[43mx\u001B[49m\u001B[43m,\u001B[49m\u001B[43m \u001B[49m\u001B[38;5;28;43mself\u001B[39;49m\u001B[38;5;241;43m.\u001B[39;49m\u001B[43m_forward_name\u001B[49m\u001B[43m,\u001B[49m\u001B[43m \u001B[49m\u001B[38;5;28;43mself\u001B[39;49m\u001B[38;5;241;43m.\u001B[39;49m\u001B[43m_inverse_name\u001B[49m\u001B[43m,\u001B[49m\u001B[43m \u001B[49m\u001B[38;5;241;43m*\u001B[39;49m\u001B[38;5;241;43m*\u001B[39;49m\u001B[43mkwargs\u001B[49m\u001B[43m)\u001B[49m\n",
      "File \u001B[0;32m~/miniconda3/envs/dev_env/lib/python3.8/site-packages/tensorflow_probability/python/internal/cache_util.py:493\u001B[0m, in \u001B[0;36mBijectorCache._lookup\u001B[0;34m(self, input, forward_name, inverse_name, **kwargs)\u001B[0m\n\u001B[1;32m    487\u001B[0m   output \u001B[38;5;241m=\u001B[39m output_ref()\n\u001B[1;32m    488\u001B[0m \u001B[38;5;28;01melse\u001B[39;00m:\n\u001B[1;32m    489\u001B[0m   \u001B[38;5;66;03m# Get the output structure, and declare a\u001B[39;00m\n\u001B[1;32m    490\u001B[0m   \u001B[38;5;66;03m# weakref to clear it from the cache once it gets GCed\u001B[39;00m\n\u001B[1;32m    491\u001B[0m   output \u001B[38;5;241m=\u001B[39m nest\u001B[38;5;241m.\u001B[39mmap_structure(\n\u001B[1;32m    492\u001B[0m       _containerize,\n\u001B[0;32m--> 493\u001B[0m       \u001B[38;5;28;43mself\u001B[39;49m\u001B[38;5;241;43m.\u001B[39;49m\u001B[43m_invoke\u001B[49m\u001B[43m(\u001B[49m\u001B[38;5;28;43minput\u001B[39;49m\u001B[43m,\u001B[49m\u001B[43m \u001B[49m\u001B[43mforward_name\u001B[49m\u001B[43m,\u001B[49m\u001B[43m \u001B[49m\u001B[43mkwargs\u001B[49m\u001B[43m,\u001B[49m\u001B[43m \u001B[49m\u001B[43mattrs\u001B[49m\u001B[43m)\u001B[49m)\n\u001B[1;32m    494\u001B[0m   output_ref \u001B[38;5;241m=\u001B[39m WeakStructRef(\n\u001B[1;32m    495\u001B[0m       output,\n\u001B[1;32m    496\u001B[0m       subkey\u001B[38;5;241m=\u001B[39m(\u001B[38;5;28mself\u001B[39m\u001B[38;5;241m.\u001B[39mbijector, \u001B[38;5;28mself\u001B[39m\u001B[38;5;241m.\u001B[39mbijector_class, inverse_name, kwargs),\n\u001B[1;32m    497\u001B[0m       callback\u001B[38;5;241m=\u001B[39m\u001B[38;5;28mself\u001B[39m\u001B[38;5;241m.\u001B[39mstorage\u001B[38;5;241m.\u001B[39mmaybe_del)\n\u001B[1;32m    498\u001B[0m   \u001B[38;5;66;03m# Set the input->output mapping.\u001B[39;00m\n",
      "File \u001B[0;32m~/miniconda3/envs/dev_env/lib/python3.8/site-packages/tensorflow_probability/python/internal/cache_util.py:532\u001B[0m, in \u001B[0;36mBijectorCache._invoke\u001B[0;34m(self, input, fn_name, kwargs, attributes)\u001B[0m\n\u001B[1;32m    530\u001B[0m \u001B[38;5;28;01mdef\u001B[39;00m \u001B[38;5;21m_invoke\u001B[39m(\u001B[38;5;28mself\u001B[39m, \u001B[38;5;28minput\u001B[39m, fn_name, kwargs, attributes):  \u001B[38;5;66;03m# pylint: disable=unused-argument\u001B[39;00m\n\u001B[1;32m    531\u001B[0m   \u001B[38;5;124;03m\"\"\"Invokes the wrapped function. Override to customize behavior.\"\"\"\u001B[39;00m\n\u001B[0;32m--> 532\u001B[0m   \u001B[38;5;28;01mreturn\u001B[39;00m \u001B[38;5;28;43mgetattr\u001B[39;49m\u001B[43m(\u001B[49m\u001B[38;5;28;43mself\u001B[39;49m\u001B[38;5;241;43m.\u001B[39;49m\u001B[43mbijector\u001B[49m\u001B[43m,\u001B[49m\u001B[43m \u001B[49m\u001B[43mfn_name\u001B[49m\u001B[43m)\u001B[49m\u001B[43m(\u001B[49m\u001B[38;5;28;43minput\u001B[39;49m\u001B[43m,\u001B[49m\u001B[43m \u001B[49m\u001B[38;5;241;43m*\u001B[39;49m\u001B[38;5;241;43m*\u001B[39;49m\u001B[43mkwargs\u001B[49m\u001B[43m)\u001B[49m\n",
      "Input \u001B[0;32mIn [91]\u001B[0m, in \u001B[0;36mCubic._forward\u001B[0;34m(self, x)\u001B[0m\n\u001B[1;32m     13\u001B[0m \u001B[38;5;28;01mdef\u001B[39;00m \u001B[38;5;21m_forward\u001B[39m(\u001B[38;5;28mself\u001B[39m, x):\n\u001B[1;32m     14\u001B[0m     x \u001B[38;5;241m=\u001B[39m tf\u001B[38;5;241m.\u001B[39mcast(x, tf\u001B[38;5;241m.\u001B[39mfloat32)\n\u001B[0;32m---> 15\u001B[0m     \u001B[38;5;28;01mreturn\u001B[39;00m tf\u001B[38;5;241m.\u001B[39msqueeze(tf\u001B[38;5;241m.\u001B[39mpow(\u001B[38;5;28;43mself\u001B[39;49m\u001B[38;5;241;43m.\u001B[39;49m\u001B[43ma\u001B[49m\u001B[43m \u001B[49m\u001B[38;5;241;43m*\u001B[39;49m\u001B[43m \u001B[49m\u001B[43mx\u001B[49m \u001B[38;5;241m+\u001B[39m \u001B[38;5;28mself\u001B[39m\u001B[38;5;241m.\u001B[39mb, \u001B[38;5;241m3\u001B[39m))\n",
      "File \u001B[0;32m~/miniconda3/envs/dev_env/lib/python3.8/site-packages/tensorflow/python/util/traceback_utils.py:153\u001B[0m, in \u001B[0;36mfilter_traceback.<locals>.error_handler\u001B[0;34m(*args, **kwargs)\u001B[0m\n\u001B[1;32m    151\u001B[0m \u001B[38;5;28;01mexcept\u001B[39;00m \u001B[38;5;167;01mException\u001B[39;00m \u001B[38;5;28;01mas\u001B[39;00m e:\n\u001B[1;32m    152\u001B[0m   filtered_tb \u001B[38;5;241m=\u001B[39m _process_traceback_frames(e\u001B[38;5;241m.\u001B[39m__traceback__)\n\u001B[0;32m--> 153\u001B[0m   \u001B[38;5;28;01mraise\u001B[39;00m e\u001B[38;5;241m.\u001B[39mwith_traceback(filtered_tb) \u001B[38;5;28;01mfrom\u001B[39;00m \u001B[38;5;28mNone\u001B[39m\n\u001B[1;32m    154\u001B[0m \u001B[38;5;28;01mfinally\u001B[39;00m:\n\u001B[1;32m    155\u001B[0m   \u001B[38;5;28;01mdel\u001B[39;00m filtered_tb\n",
      "File \u001B[0;32m~/miniconda3/envs/dev_env/lib/python3.8/site-packages/tensorflow/python/framework/ops.py:7186\u001B[0m, in \u001B[0;36mraise_from_not_ok_status\u001B[0;34m(e, name)\u001B[0m\n\u001B[1;32m   7184\u001B[0m \u001B[38;5;28;01mdef\u001B[39;00m \u001B[38;5;21mraise_from_not_ok_status\u001B[39m(e, name):\n\u001B[1;32m   7185\u001B[0m   e\u001B[38;5;241m.\u001B[39mmessage \u001B[38;5;241m+\u001B[39m\u001B[38;5;241m=\u001B[39m (\u001B[38;5;124m\"\u001B[39m\u001B[38;5;124m name: \u001B[39m\u001B[38;5;124m\"\u001B[39m \u001B[38;5;241m+\u001B[39m name \u001B[38;5;28;01mif\u001B[39;00m name \u001B[38;5;129;01mis\u001B[39;00m \u001B[38;5;129;01mnot\u001B[39;00m \u001B[38;5;28;01mNone\u001B[39;00m \u001B[38;5;28;01melse\u001B[39;00m \u001B[38;5;124m\"\u001B[39m\u001B[38;5;124m\"\u001B[39m)\n\u001B[0;32m-> 7186\u001B[0m   \u001B[38;5;28;01mraise\u001B[39;00m core\u001B[38;5;241m.\u001B[39m_status_to_exception(e) \u001B[38;5;28;01mfrom\u001B[39;00m \u001B[38;5;28mNone\u001B[39m\n",
      "\u001B[0;31mInvalidArgumentError\u001B[0m: required broadcastable shapes [Op:Mul]"
     ]
    }
   ],
   "source": [
    "x = np.array([1,2,3])\n",
    "display(x)\n",
    "display(cubic.forward(x))"
   ],
   "metadata": {
    "collapsed": false,
    "pycharm": {
     "name": "#%%\n"
    }
   }
  },
  {
   "cell_type": "code",
   "execution_count": 106,
   "outputs": [
    {
     "data": {
      "text/plain": "array([[1],\n       [2],\n       [3]])"
     },
     "metadata": {},
     "output_type": "display_data"
    },
    {
     "data": {
      "text/plain": "<tf.Tensor: shape=(3, 2), dtype=float32, numpy=\narray([[   0.     ,   -4.096  ],\n       [   1.     ,  -46.656  ],\n       [   8.     , -175.61603]], dtype=float32)>"
     },
     "metadata": {},
     "output_type": "display_data"
    }
   ],
   "source": [
    "x = np.array([1,2,3]).reshape(-1,1)\n",
    "display(x)\n",
    "display(cubic.forward(x))"
   ],
   "metadata": {
    "collapsed": false,
    "pycharm": {
     "name": "#%%\n"
    }
   }
  },
  {
   "cell_type": "code",
   "execution_count": 107,
   "outputs": [
    {
     "ename": "TypeError",
     "evalue": "'NoneType' object is not iterable",
     "output_type": "error",
     "traceback": [
      "\u001B[0;31m---------------------------------------------------------------------------\u001B[0m",
      "\u001B[0;31mTypeError\u001B[0m                                 Traceback (most recent call last)",
      "Input \u001B[0;32mIn [107]\u001B[0m, in \u001B[0;36m<cell line: 1>\u001B[0;34m()\u001B[0m\n\u001B[0;32m----> 1\u001B[0m \u001B[43mcubic\u001B[49m\u001B[38;5;241;43m.\u001B[39;49m\u001B[43mexperimental_batch_shape\u001B[49m\u001B[43m(\u001B[49m\u001B[43m)\u001B[49m\n",
      "File \u001B[0;32m~/miniconda3/envs/dev_env/lib/python3.8/site-packages/tensorflow_probability/python/bijectors/bijector.py:1225\u001B[0m, in \u001B[0;36mBijector.experimental_batch_shape\u001B[0;34m(self, x_event_ndims, y_event_ndims)\u001B[0m\n\u001B[1;32m   1222\u001B[0m key \u001B[38;5;241m=\u001B[39m _deep_tuple(x_event_ndims)  \u001B[38;5;66;03m# Avoid hashing lists/dicts.\u001B[39;00m\n\u001B[1;32m   1223\u001B[0m \u001B[38;5;28;01mif\u001B[39;00m key \u001B[38;5;129;01mnot\u001B[39;00m \u001B[38;5;129;01min\u001B[39;00m \u001B[38;5;28mself\u001B[39m\u001B[38;5;241m.\u001B[39m_cached_batch_shapes:\n\u001B[1;32m   1224\u001B[0m   \u001B[38;5;28mself\u001B[39m\u001B[38;5;241m.\u001B[39m_cached_batch_shapes[key] \u001B[38;5;241m=\u001B[39m tf\u001B[38;5;241m.\u001B[39mTensorShape(\n\u001B[0;32m-> 1225\u001B[0m       \u001B[38;5;28;43mself\u001B[39;49m\u001B[38;5;241;43m.\u001B[39;49m\u001B[43m_batch_shape\u001B[49m\u001B[43m(\u001B[49m\u001B[43mx_event_ndims\u001B[49m\u001B[43m)\u001B[49m)\n\u001B[1;32m   1226\u001B[0m \u001B[38;5;28;01mreturn\u001B[39;00m \u001B[38;5;28mself\u001B[39m\u001B[38;5;241m.\u001B[39m_cached_batch_shapes[key]\n",
      "File \u001B[0;32m~/miniconda3/envs/dev_env/lib/python3.8/site-packages/tensorflow_probability/python/bijectors/bijector.py:1173\u001B[0m, in \u001B[0;36mBijector._batch_shape\u001B[0;34m(self, x_event_ndims)\u001B[0m\n\u001B[1;32m   1166\u001B[0m   \u001B[38;5;28;01mreturn\u001B[39;00m tensorshape_util\u001B[38;5;241m.\u001B[39mconstant_value_as_shape([])\n\u001B[1;32m   1168\u001B[0m \u001B[38;5;66;03m# Infer batch shape from annotations returned by `_parameter_properties()`.\u001B[39;00m\n\u001B[1;32m   1169\u001B[0m \u001B[38;5;66;03m# Batch shape inference assumes that the provided and minimum event ndims\u001B[39;00m\n\u001B[1;32m   1170\u001B[0m \u001B[38;5;66;03m# differ by the same amount in all parts. Bijectors with multiple\u001B[39;00m\n\u001B[1;32m   1171\u001B[0m \u001B[38;5;66;03m# independent parts will need to override this method, or inherit from a\u001B[39;00m\n\u001B[1;32m   1172\u001B[0m \u001B[38;5;66;03m# class (such as Composition) that does so.\u001B[39;00m\n\u001B[0;32m-> 1173\u001B[0m \u001B[38;5;28;01mreturn\u001B[39;00m \u001B[43mbatch_shape_lib\u001B[49m\u001B[38;5;241;43m.\u001B[39;49m\u001B[43minferred_batch_shape\u001B[49m\u001B[43m(\u001B[49m\n\u001B[1;32m   1174\u001B[0m \u001B[43m    \u001B[49m\u001B[38;5;28;43mself\u001B[39;49m\u001B[43m,\u001B[49m\u001B[43m \u001B[49m\u001B[43mbijector_x_event_ndims\u001B[49m\u001B[38;5;241;43m=\u001B[39;49m\u001B[43mx_event_ndims\u001B[49m\u001B[43m)\u001B[49m\n",
      "File \u001B[0;32m~/miniconda3/envs/dev_env/lib/python3.8/site-packages/tensorflow_probability/python/internal/batch_shape_lib.py:68\u001B[0m, in \u001B[0;36minferred_batch_shape\u001B[0;34m(batch_object, bijector_x_event_ndims)\u001B[0m\n\u001B[1;32m     40\u001B[0m \u001B[38;5;28;01mdef\u001B[39;00m \u001B[38;5;21minferred_batch_shape\u001B[39m(batch_object, bijector_x_event_ndims\u001B[38;5;241m=\u001B[39m\u001B[38;5;28;01mNone\u001B[39;00m):\n\u001B[1;32m     41\u001B[0m   \u001B[38;5;124;03m\"\"\"Infers an object's batch shape from its  parameters.\u001B[39;00m\n\u001B[1;32m     42\u001B[0m \n\u001B[1;32m     43\u001B[0m \u001B[38;5;124;03m  Each parameter contributes a batch shape of\u001B[39;00m\n\u001B[0;32m   (...)\u001B[0m\n\u001B[1;32m     66\u001B[0m \u001B[38;5;124;03m        be partially defined or unknown.\u001B[39;00m\n\u001B[1;32m     67\u001B[0m \u001B[38;5;124;03m  \"\"\"\u001B[39;00m\n\u001B[0;32m---> 68\u001B[0m   batch_shapes \u001B[38;5;241m=\u001B[39m \u001B[43mmap_fn_over_parameters_with_event_ndims\u001B[49m\u001B[43m(\u001B[49m\n\u001B[1;32m     69\u001B[0m \u001B[43m      \u001B[49m\u001B[43mbatch_object\u001B[49m\u001B[43m,\u001B[49m\n\u001B[1;32m     70\u001B[0m \u001B[43m      \u001B[49m\u001B[43mget_batch_shape_part\u001B[49m\u001B[43m,\u001B[49m\n\u001B[1;32m     71\u001B[0m \u001B[43m      \u001B[49m\u001B[43mrequire_static\u001B[49m\u001B[38;5;241;43m=\u001B[39;49m\u001B[38;5;28;43;01mTrue\u001B[39;49;00m\u001B[43m,\u001B[49m\n\u001B[1;32m     72\u001B[0m \u001B[43m      \u001B[49m\u001B[43mbijector_x_event_ndims\u001B[49m\u001B[38;5;241;43m=\u001B[39;49m\u001B[43mbijector_x_event_ndims\u001B[49m\u001B[43m)\u001B[49m\n\u001B[1;32m     73\u001B[0m   \u001B[38;5;28;01mreturn\u001B[39;00m functools\u001B[38;5;241m.\u001B[39mreduce(tf\u001B[38;5;241m.\u001B[39mbroadcast_static_shape,\n\u001B[1;32m     74\u001B[0m                           tf\u001B[38;5;241m.\u001B[39mnest\u001B[38;5;241m.\u001B[39mflatten(batch_shapes),\n\u001B[1;32m     75\u001B[0m                           tf\u001B[38;5;241m.\u001B[39mTensorShape([]))\n",
      "File \u001B[0;32m~/miniconda3/envs/dev_env/lib/python3.8/site-packages/tensorflow_probability/python/internal/batch_shape_lib.py:327\u001B[0m, in \u001B[0;36mmap_fn_over_parameters_with_event_ndims\u001B[0;34m(batch_object, fn, bijector_x_event_ndims, require_static, **parameter_kwargs)\u001B[0m\n\u001B[1;32m    318\u001B[0m   \u001B[38;5;28;01mif\u001B[39;00m kwarg \u001B[38;5;129;01mnot\u001B[39;00m \u001B[38;5;129;01min\u001B[39;00m parameter_properties:\n\u001B[1;32m    319\u001B[0m     logging\u001B[38;5;241m.\u001B[39mwarning(\n\u001B[1;32m    320\u001B[0m         \u001B[38;5;124m'\u001B[39m\u001B[38;5;124mKeyword argument `\u001B[39m\u001B[38;5;132;01m%s\u001B[39;00m\u001B[38;5;124m` was not expected and will be ignored. \u001B[39m\u001B[38;5;124m'\u001B[39m\n\u001B[1;32m    321\u001B[0m         \u001B[38;5;124m'\u001B[39m\u001B[38;5;124mExpected any of the parameters: \u001B[39m\u001B[38;5;132;01m%s\u001B[39;00m\u001B[38;5;124m. Any of \u001B[39m\u001B[38;5;124m'\u001B[39m\n\u001B[0;32m   (...)\u001B[0m\n\u001B[1;32m    324\u001B[0m         \u001B[38;5;124m'\u001B[39m\u001B[38;5;124mconversions if they were not already specified as Tensors.\u001B[39m\u001B[38;5;124m'\u001B[39m, kwarg,\n\u001B[1;32m    325\u001B[0m         parameter_properties\u001B[38;5;241m.\u001B[39mkeys())\n\u001B[0;32m--> 327\u001B[0m \u001B[38;5;28;01mfor\u001B[39;00m param_name, param \u001B[38;5;129;01min\u001B[39;00m \u001B[38;5;28;43mdict\u001B[39;49m\u001B[43m(\u001B[49m\u001B[43mbatch_object\u001B[49m\u001B[38;5;241;43m.\u001B[39;49m\u001B[43mparameters\u001B[49m\u001B[43m,\u001B[49m\n\u001B[1;32m    328\u001B[0m \u001B[43m                              \u001B[49m\u001B[38;5;241;43m*\u001B[39;49m\u001B[38;5;241;43m*\u001B[39;49m\u001B[43mparameter_kwargs\u001B[49m\u001B[43m)\u001B[49m\u001B[38;5;241m.\u001B[39mitems():\n\u001B[1;32m    329\u001B[0m   \u001B[38;5;28;01mif\u001B[39;00m param \u001B[38;5;129;01mis\u001B[39;00m \u001B[38;5;28;01mNone\u001B[39;00m:\n\u001B[1;32m    330\u001B[0m     \u001B[38;5;28;01mcontinue\u001B[39;00m\n",
      "\u001B[0;31mTypeError\u001B[0m: 'NoneType' object is not iterable"
     ]
    }
   ],
   "source": [
    "cubic.experimental_batch_shape()"
   ],
   "metadata": {
    "collapsed": false,
    "pycharm": {
     "name": "#%%\n"
    }
   }
  },
  {
   "cell_type": "markdown",
   "source": [
    "## Function plots"
   ],
   "metadata": {
    "collapsed": false,
    "pycharm": {
     "name": "#%% md\n"
    }
   }
  },
  {
   "cell_type": "code",
   "execution_count": 108,
   "metadata": {
    "collapsed": false,
    "jupyter": {
     "outputs_hidden": false
    },
    "pycharm": {
     "name": "#%%\n"
    }
   },
   "outputs": [
    {
     "data": {
      "text/plain": "(500,)"
     },
     "execution_count": 108,
     "metadata": {},
     "output_type": "execute_result"
    }
   ],
   "source": [
    "np.linspace(-10,10,500).shape"
   ]
  },
  {
   "cell_type": "code",
   "execution_count": 109,
   "metadata": {
    "collapsed": false,
    "jupyter": {
     "outputs_hidden": false
    },
    "pycharm": {
     "name": "#%%\n"
    }
   },
   "outputs": [
    {
     "name": "stderr",
     "output_type": "stream",
     "text": [
      "2022-05-04 14:18:02.911185: W tensorflow/core/framework/op_kernel.cc:1733] INVALID_ARGUMENT: required broadcastable shapes\n"
     ]
    },
    {
     "ename": "InvalidArgumentError",
     "evalue": "required broadcastable shapes [Op:Mul]",
     "output_type": "error",
     "traceback": [
      "\u001B[0;31m---------------------------------------------------------------------------\u001B[0m",
      "\u001B[0;31mInvalidArgumentError\u001B[0m                      Traceback (most recent call last)",
      "Input \u001B[0;32mIn [109]\u001B[0m, in \u001B[0;36m<cell line: 1>\u001B[0;34m()\u001B[0m\n\u001B[0;32m----> 1\u001B[0m \u001B[43mcubic\u001B[49m\u001B[38;5;241;43m.\u001B[39;49m\u001B[43mforward\u001B[49m\u001B[43m(\u001B[49m\u001B[43mnp\u001B[49m\u001B[38;5;241;43m.\u001B[39;49m\u001B[43mlinspace\u001B[49m\u001B[43m(\u001B[49m\u001B[38;5;241;43m-\u001B[39;49m\u001B[38;5;241;43m10\u001B[39;49m\u001B[43m,\u001B[49m\u001B[38;5;241;43m10\u001B[39;49m\u001B[43m,\u001B[49m\u001B[38;5;241;43m500\u001B[39;49m\u001B[43m)\u001B[49m\u001B[43m)\u001B[49m\n",
      "File \u001B[0;32m~/miniconda3/envs/dev_env/lib/python3.8/site-packages/tensorflow_probability/python/bijectors/bijector.py:1368\u001B[0m, in \u001B[0;36mBijector.forward\u001B[0;34m(self, x, name, **kwargs)\u001B[0m\n\u001B[1;32m   1352\u001B[0m \u001B[38;5;28;01mdef\u001B[39;00m \u001B[38;5;21mforward\u001B[39m(\u001B[38;5;28mself\u001B[39m, x, name\u001B[38;5;241m=\u001B[39m\u001B[38;5;124m'\u001B[39m\u001B[38;5;124mforward\u001B[39m\u001B[38;5;124m'\u001B[39m, \u001B[38;5;241m*\u001B[39m\u001B[38;5;241m*\u001B[39mkwargs):\n\u001B[1;32m   1353\u001B[0m   \u001B[38;5;124;03m\"\"\"Returns the forward `Bijector` evaluation, i.e., X = g(Y).\u001B[39;00m\n\u001B[1;32m   1354\u001B[0m \n\u001B[1;32m   1355\u001B[0m \u001B[38;5;124;03m  Args:\u001B[39;00m\n\u001B[0;32m   (...)\u001B[0m\n\u001B[1;32m   1366\u001B[0m \u001B[38;5;124;03m    NotImplementedError: if `_forward` is not implemented.\u001B[39;00m\n\u001B[1;32m   1367\u001B[0m \u001B[38;5;124;03m  \"\"\"\u001B[39;00m\n\u001B[0;32m-> 1368\u001B[0m   \u001B[38;5;28;01mreturn\u001B[39;00m \u001B[38;5;28;43mself\u001B[39;49m\u001B[38;5;241;43m.\u001B[39;49m\u001B[43m_call_forward\u001B[49m\u001B[43m(\u001B[49m\u001B[43mx\u001B[49m\u001B[43m,\u001B[49m\u001B[43m \u001B[49m\u001B[43mname\u001B[49m\u001B[43m,\u001B[49m\u001B[43m \u001B[49m\u001B[38;5;241;43m*\u001B[39;49m\u001B[38;5;241;43m*\u001B[39;49m\u001B[43mkwargs\u001B[49m\u001B[43m)\u001B[49m\n",
      "File \u001B[0;32m~/miniconda3/envs/dev_env/lib/python3.8/site-packages/tensorflow_probability/python/bijectors/bijector.py:1350\u001B[0m, in \u001B[0;36mBijector._call_forward\u001B[0;34m(self, x, name, **kwargs)\u001B[0m\n\u001B[1;32m   1348\u001B[0m \u001B[38;5;28;01mif\u001B[39;00m \u001B[38;5;129;01mnot\u001B[39;00m \u001B[38;5;28mself\u001B[39m\u001B[38;5;241m.\u001B[39m_is_injective:  \u001B[38;5;66;03m# No caching for non-injective\u001B[39;00m\n\u001B[1;32m   1349\u001B[0m   \u001B[38;5;28;01mreturn\u001B[39;00m \u001B[38;5;28mself\u001B[39m\u001B[38;5;241m.\u001B[39m_forward(x, \u001B[38;5;241m*\u001B[39m\u001B[38;5;241m*\u001B[39mkwargs)\n\u001B[0;32m-> 1350\u001B[0m \u001B[38;5;28;01mreturn\u001B[39;00m \u001B[38;5;28;43mself\u001B[39;49m\u001B[38;5;241;43m.\u001B[39;49m\u001B[43m_cache\u001B[49m\u001B[38;5;241;43m.\u001B[39;49m\u001B[43mforward\u001B[49m\u001B[43m(\u001B[49m\u001B[43mx\u001B[49m\u001B[43m,\u001B[49m\u001B[43m \u001B[49m\u001B[38;5;241;43m*\u001B[39;49m\u001B[38;5;241;43m*\u001B[39;49m\u001B[43mkwargs\u001B[49m\u001B[43m)\u001B[49m\n",
      "File \u001B[0;32m~/miniconda3/envs/dev_env/lib/python3.8/site-packages/tensorflow_probability/python/internal/cache_util.py:334\u001B[0m, in \u001B[0;36mBijectorCache.forward\u001B[0;34m(self, x, **kwargs)\u001B[0m\n\u001B[1;32m    323\u001B[0m \u001B[38;5;28;01mdef\u001B[39;00m \u001B[38;5;21mforward\u001B[39m(\u001B[38;5;28mself\u001B[39m, x, \u001B[38;5;241m*\u001B[39m\u001B[38;5;241m*\u001B[39mkwargs):\n\u001B[1;32m    324\u001B[0m   \u001B[38;5;124;03m\"\"\"Invokes the 'forward' transformation, or looks up previous results.\u001B[39;00m\n\u001B[1;32m    325\u001B[0m \n\u001B[1;32m    326\u001B[0m \u001B[38;5;124;03m  Args:\u001B[39;00m\n\u001B[0;32m   (...)\u001B[0m\n\u001B[1;32m    332\u001B[0m \u001B[38;5;124;03m    The output of the bijector's `_forward` method, or a cached result.\u001B[39;00m\n\u001B[1;32m    333\u001B[0m \u001B[38;5;124;03m  \"\"\"\u001B[39;00m\n\u001B[0;32m--> 334\u001B[0m   \u001B[38;5;28;01mreturn\u001B[39;00m \u001B[38;5;28;43mself\u001B[39;49m\u001B[38;5;241;43m.\u001B[39;49m\u001B[43m_lookup\u001B[49m\u001B[43m(\u001B[49m\u001B[43mx\u001B[49m\u001B[43m,\u001B[49m\u001B[43m \u001B[49m\u001B[38;5;28;43mself\u001B[39;49m\u001B[38;5;241;43m.\u001B[39;49m\u001B[43m_forward_name\u001B[49m\u001B[43m,\u001B[49m\u001B[43m \u001B[49m\u001B[38;5;28;43mself\u001B[39;49m\u001B[38;5;241;43m.\u001B[39;49m\u001B[43m_inverse_name\u001B[49m\u001B[43m,\u001B[49m\u001B[43m \u001B[49m\u001B[38;5;241;43m*\u001B[39;49m\u001B[38;5;241;43m*\u001B[39;49m\u001B[43mkwargs\u001B[49m\u001B[43m)\u001B[49m\n",
      "File \u001B[0;32m~/miniconda3/envs/dev_env/lib/python3.8/site-packages/tensorflow_probability/python/internal/cache_util.py:493\u001B[0m, in \u001B[0;36mBijectorCache._lookup\u001B[0;34m(self, input, forward_name, inverse_name, **kwargs)\u001B[0m\n\u001B[1;32m    487\u001B[0m   output \u001B[38;5;241m=\u001B[39m output_ref()\n\u001B[1;32m    488\u001B[0m \u001B[38;5;28;01melse\u001B[39;00m:\n\u001B[1;32m    489\u001B[0m   \u001B[38;5;66;03m# Get the output structure, and declare a\u001B[39;00m\n\u001B[1;32m    490\u001B[0m   \u001B[38;5;66;03m# weakref to clear it from the cache once it gets GCed\u001B[39;00m\n\u001B[1;32m    491\u001B[0m   output \u001B[38;5;241m=\u001B[39m nest\u001B[38;5;241m.\u001B[39mmap_structure(\n\u001B[1;32m    492\u001B[0m       _containerize,\n\u001B[0;32m--> 493\u001B[0m       \u001B[38;5;28;43mself\u001B[39;49m\u001B[38;5;241;43m.\u001B[39;49m\u001B[43m_invoke\u001B[49m\u001B[43m(\u001B[49m\u001B[38;5;28;43minput\u001B[39;49m\u001B[43m,\u001B[49m\u001B[43m \u001B[49m\u001B[43mforward_name\u001B[49m\u001B[43m,\u001B[49m\u001B[43m \u001B[49m\u001B[43mkwargs\u001B[49m\u001B[43m,\u001B[49m\u001B[43m \u001B[49m\u001B[43mattrs\u001B[49m\u001B[43m)\u001B[49m)\n\u001B[1;32m    494\u001B[0m   output_ref \u001B[38;5;241m=\u001B[39m WeakStructRef(\n\u001B[1;32m    495\u001B[0m       output,\n\u001B[1;32m    496\u001B[0m       subkey\u001B[38;5;241m=\u001B[39m(\u001B[38;5;28mself\u001B[39m\u001B[38;5;241m.\u001B[39mbijector, \u001B[38;5;28mself\u001B[39m\u001B[38;5;241m.\u001B[39mbijector_class, inverse_name, kwargs),\n\u001B[1;32m    497\u001B[0m       callback\u001B[38;5;241m=\u001B[39m\u001B[38;5;28mself\u001B[39m\u001B[38;5;241m.\u001B[39mstorage\u001B[38;5;241m.\u001B[39mmaybe_del)\n\u001B[1;32m    498\u001B[0m   \u001B[38;5;66;03m# Set the input->output mapping.\u001B[39;00m\n",
      "File \u001B[0;32m~/miniconda3/envs/dev_env/lib/python3.8/site-packages/tensorflow_probability/python/internal/cache_util.py:532\u001B[0m, in \u001B[0;36mBijectorCache._invoke\u001B[0;34m(self, input, fn_name, kwargs, attributes)\u001B[0m\n\u001B[1;32m    530\u001B[0m \u001B[38;5;28;01mdef\u001B[39;00m \u001B[38;5;21m_invoke\u001B[39m(\u001B[38;5;28mself\u001B[39m, \u001B[38;5;28minput\u001B[39m, fn_name, kwargs, attributes):  \u001B[38;5;66;03m# pylint: disable=unused-argument\u001B[39;00m\n\u001B[1;32m    531\u001B[0m   \u001B[38;5;124;03m\"\"\"Invokes the wrapped function. Override to customize behavior.\"\"\"\u001B[39;00m\n\u001B[0;32m--> 532\u001B[0m   \u001B[38;5;28;01mreturn\u001B[39;00m \u001B[38;5;28;43mgetattr\u001B[39;49m\u001B[43m(\u001B[49m\u001B[38;5;28;43mself\u001B[39;49m\u001B[38;5;241;43m.\u001B[39;49m\u001B[43mbijector\u001B[49m\u001B[43m,\u001B[49m\u001B[43m \u001B[49m\u001B[43mfn_name\u001B[49m\u001B[43m)\u001B[49m\u001B[43m(\u001B[49m\u001B[38;5;28;43minput\u001B[39;49m\u001B[43m,\u001B[49m\u001B[43m \u001B[49m\u001B[38;5;241;43m*\u001B[39;49m\u001B[38;5;241;43m*\u001B[39;49m\u001B[43mkwargs\u001B[49m\u001B[43m)\u001B[49m\n",
      "Input \u001B[0;32mIn [91]\u001B[0m, in \u001B[0;36mCubic._forward\u001B[0;34m(self, x)\u001B[0m\n\u001B[1;32m     13\u001B[0m \u001B[38;5;28;01mdef\u001B[39;00m \u001B[38;5;21m_forward\u001B[39m(\u001B[38;5;28mself\u001B[39m, x):\n\u001B[1;32m     14\u001B[0m     x \u001B[38;5;241m=\u001B[39m tf\u001B[38;5;241m.\u001B[39mcast(x, tf\u001B[38;5;241m.\u001B[39mfloat32)\n\u001B[0;32m---> 15\u001B[0m     \u001B[38;5;28;01mreturn\u001B[39;00m tf\u001B[38;5;241m.\u001B[39msqueeze(tf\u001B[38;5;241m.\u001B[39mpow(\u001B[38;5;28;43mself\u001B[39;49m\u001B[38;5;241;43m.\u001B[39;49m\u001B[43ma\u001B[49m\u001B[43m \u001B[49m\u001B[38;5;241;43m*\u001B[39;49m\u001B[43m \u001B[49m\u001B[43mx\u001B[49m \u001B[38;5;241m+\u001B[39m \u001B[38;5;28mself\u001B[39m\u001B[38;5;241m.\u001B[39mb, \u001B[38;5;241m3\u001B[39m))\n",
      "File \u001B[0;32m~/miniconda3/envs/dev_env/lib/python3.8/site-packages/tensorflow/python/util/traceback_utils.py:153\u001B[0m, in \u001B[0;36mfilter_traceback.<locals>.error_handler\u001B[0;34m(*args, **kwargs)\u001B[0m\n\u001B[1;32m    151\u001B[0m \u001B[38;5;28;01mexcept\u001B[39;00m \u001B[38;5;167;01mException\u001B[39;00m \u001B[38;5;28;01mas\u001B[39;00m e:\n\u001B[1;32m    152\u001B[0m   filtered_tb \u001B[38;5;241m=\u001B[39m _process_traceback_frames(e\u001B[38;5;241m.\u001B[39m__traceback__)\n\u001B[0;32m--> 153\u001B[0m   \u001B[38;5;28;01mraise\u001B[39;00m e\u001B[38;5;241m.\u001B[39mwith_traceback(filtered_tb) \u001B[38;5;28;01mfrom\u001B[39;00m \u001B[38;5;28mNone\u001B[39m\n\u001B[1;32m    154\u001B[0m \u001B[38;5;28;01mfinally\u001B[39;00m:\n\u001B[1;32m    155\u001B[0m   \u001B[38;5;28;01mdel\u001B[39;00m filtered_tb\n",
      "File \u001B[0;32m~/miniconda3/envs/dev_env/lib/python3.8/site-packages/tensorflow/python/framework/ops.py:7186\u001B[0m, in \u001B[0;36mraise_from_not_ok_status\u001B[0;34m(e, name)\u001B[0m\n\u001B[1;32m   7184\u001B[0m \u001B[38;5;28;01mdef\u001B[39;00m \u001B[38;5;21mraise_from_not_ok_status\u001B[39m(e, name):\n\u001B[1;32m   7185\u001B[0m   e\u001B[38;5;241m.\u001B[39mmessage \u001B[38;5;241m+\u001B[39m\u001B[38;5;241m=\u001B[39m (\u001B[38;5;124m\"\u001B[39m\u001B[38;5;124m name: \u001B[39m\u001B[38;5;124m\"\u001B[39m \u001B[38;5;241m+\u001B[39m name \u001B[38;5;28;01mif\u001B[39;00m name \u001B[38;5;129;01mis\u001B[39;00m \u001B[38;5;129;01mnot\u001B[39;00m \u001B[38;5;28;01mNone\u001B[39;00m \u001B[38;5;28;01melse\u001B[39;00m \u001B[38;5;124m\"\u001B[39m\u001B[38;5;124m\"\u001B[39m)\n\u001B[0;32m-> 7186\u001B[0m   \u001B[38;5;28;01mraise\u001B[39;00m core\u001B[38;5;241m.\u001B[39m_status_to_exception(e) \u001B[38;5;28;01mfrom\u001B[39;00m \u001B[38;5;28mNone\u001B[39m\n",
      "\u001B[0;31mInvalidArgumentError\u001B[0m: required broadcastable shapes [Op:Mul]"
     ]
    }
   ],
   "source": [
    "cubic.forward(np.linspace(-10,10,500))"
   ]
  },
  {
   "cell_type": "code",
   "execution_count": 110,
   "metadata": {
    "collapsed": false,
    "jupyter": {
     "outputs_hidden": false
    },
    "pycharm": {
     "name": "#%%\n"
    }
   },
   "outputs": [
    {
     "data": {
      "text/plain": "(500, 1)"
     },
     "execution_count": 110,
     "metadata": {},
     "output_type": "execute_result"
    }
   ],
   "source": [
    "x = np.linspace(-10,10,500).reshape(-1,1) # 500 samples, each of which has length of 1\n",
    "x.shape"
   ]
  },
  {
   "cell_type": "code",
   "execution_count": 111,
   "metadata": {
    "collapsed": false,
    "jupyter": {
     "outputs_hidden": false
    },
    "pycharm": {
     "name": "#%%\n"
    }
   },
   "outputs": [
    {
     "data": {
      "text/plain": "[<matplotlib.lines.Line2D at 0x7f4403190820>,\n <matplotlib.lines.Line2D at 0x7f44031908e0>]"
     },
     "execution_count": 111,
     "metadata": {},
     "output_type": "execute_result"
    },
    {
     "data": {
      "text/plain": "<Figure size 432x288 with 1 Axes>",
      "image/png": "[encoded data removed]"
     },
     "metadata": {
      "needs_background": "light"
     },
     "output_type": "display_data"
    }
   ],
   "source": [
    "plt.plot(x, cubic.forward(x))"
   ]
  },
  {
   "cell_type": "code",
   "execution_count": 112,
   "outputs": [
    {
     "data": {
      "text/plain": "TensorShape([500, 2])"
     },
     "execution_count": 112,
     "metadata": {},
     "output_type": "execute_result"
    }
   ],
   "source": [
    "cubic.forward(x).shape"
   ],
   "metadata": {
    "collapsed": false,
    "pycharm": {
     "name": "#%%\n"
    }
   }
  },
  {
   "cell_type": "code",
   "execution_count": 113,
   "outputs": [
    {
     "data": {
      "text/plain": "[<matplotlib.lines.Line2D at 0x7f440317a910>,\n <matplotlib.lines.Line2D at 0x7f440317a9d0>]"
     },
     "execution_count": 113,
     "metadata": {},
     "output_type": "execute_result"
    },
    {
     "data": {
      "text/plain": "<Figure size 432x288 with 1 Axes>",
      "image/png": "[encoded data removed]"
     },
     "metadata": {
      "needs_background": "light"
     },
     "output_type": "display_data"
    }
   ],
   "source": [
    "plt.plot(x, cubic.inverse(x))"
   ],
   "metadata": {
    "collapsed": false,
    "pycharm": {
     "name": "#%%\n"
    }
   }
  },
  {
   "cell_type": "code",
   "execution_count": 114,
   "outputs": [
    {
     "data": {
      "text/plain": "[<matplotlib.lines.Line2D at 0x7f44030c85e0>,\n <matplotlib.lines.Line2D at 0x7f44030c86a0>]"
     },
     "execution_count": 114,
     "metadata": {},
     "output_type": "execute_result"
    },
    {
     "data": {
      "text/plain": "<Figure size 432x288 with 1 Axes>",
      "image/png": "[encoded data removed]"
     },
     "metadata": {
      "needs_background": "light"
     },
     "output_type": "display_data"
    }
   ],
   "source": [
    "plt.plot(x, cubic.forward_log_det_jacobian(x, event_ndims=0))"
   ],
   "metadata": {
    "collapsed": false,
    "pycharm": {
     "name": "#%%\n"
    }
   }
  },
  {
   "cell_type": "code",
   "execution_count": 115,
   "outputs": [
    {
     "data": {
      "text/plain": "[<matplotlib.lines.Line2D at 0x7f440308cee0>,\n <matplotlib.lines.Line2D at 0x7f440308cf70>]"
     },
     "execution_count": 115,
     "metadata": {},
     "output_type": "execute_result"
    },
    {
     "data": {
      "text/plain": "<Figure size 432x288 with 1 Axes>",
      "image/png": "[encoded data removed]"
     },
     "metadata": {
      "needs_background": "light"
     },
     "output_type": "display_data"
    }
   ],
   "source": [
    "plt.plot(x, cubic.inverse_log_det_jacobian(x, event_ndims=0))"
   ],
   "metadata": {
    "collapsed": false,
    "pycharm": {
     "name": "#%%\n"
    }
   }
  },
  {
   "cell_type": "markdown",
   "source": [
    "# TransformedDistribution and plots"
   ],
   "metadata": {
    "collapsed": false,
    "pycharm": {
     "name": "#%% md\n"
    }
   }
  },
  {
   "cell_type": "code",
   "execution_count": 2,
   "outputs": [
    {
     "data": {
      "text/plain": "'0.16.0'"
     },
     "execution_count": 2,
     "metadata": {},
     "output_type": "execute_result"
    }
   ],
   "source": [
    "tfp.__version__"
   ],
   "metadata": {
    "collapsed": false,
    "pycharm": {
     "name": "#%%\n"
    }
   }
  },
  {
   "cell_type": "code",
   "execution_count": 3,
   "outputs": [],
   "source": [
    "from tensorflow_probability.python.internal import parameter_properties\n",
    "#\n",
    "# Define a new bijector: Cubic\n",
    "class Cubic_v2(tfb.Bijector):\n",
    "\n",
    "    def __init__(self, a, b, validate_args=False, name='Cubic'):\n",
    "        parameters = dict(locals())   # <-- new\n",
    "        self._a = tf.convert_to_tensor(a, dtype_hint=tf.float32, name='a')\n",
    "        self._b = tf.convert_to_tensor(b, dtype_hint=tf.float32, name='b')\n",
    "        if validate_args:\n",
    "            assert tf.reduce_mean(tf.cast(tf.math.greater_equal(tf.abs(self._a), 1e-5), tf.float32)) == 1.0\n",
    "            assert tf.reduce_mean(tf.cast(tf.math.greater_equal(tf.abs(self._b), 1e-5), tf.float32)) == 1.0\n",
    "        super(Cubic_v2, self).__init__(\n",
    "            validate_args=validate_args,\n",
    "             forward_min_event_ndims=0,\n",
    "             parameters=parameters,   # <-- new\n",
    "             name=name)\n",
    "\n",
    "    def get_params(self):\n",
    "        return self.parameters\n",
    "\n",
    "    @classmethod\n",
    "    def _parameter_properties(cls, dtype):   # <-- new\n",
    "      return dict(a=parameter_properties.ParameterProperties(),\n",
    "                  b=parameter_properties.ParameterProperties())\n",
    "\n",
    "    def _forward(self, x):\n",
    "        x = tf.cast(x, tf.float32)\n",
    "        return tf.pow(self._a * x + self._b, 3)\n",
    "\n",
    "    def _inverse(self, y):\n",
    "        y = tf.cast(y, tf.float32)\n",
    "        return (tf.math.sign(y) * tf.pow(tf.abs(y), 1/3) - self._b) / self._a\n",
    "\n",
    "    def _forward_log_det_jacobian(self, x):\n",
    "        x = tf.cast(x, tf.float32)\n",
    "        return tf.math.log(3. * tf.abs(self._a)) + 2. * tf.math.log(tf.abs(self._a * x + self._b))"
   ],
   "metadata": {
    "collapsed": false,
    "pycharm": {
     "name": "#%%\n"
    }
   }
  },
  {
   "cell_type": "code",
   "execution_count": 4,
   "outputs": [
    {
     "name": "stderr",
     "output_type": "stream",
     "text": [
      "2022-05-05 12:15:33.466617: I tensorflow/core/platform/cpu_feature_guard.cc:151] This TensorFlow binary is optimized with oneAPI Deep Neural Network Library (oneDNN) to use the following CPU instructions in performance-critical operations:  AVX2 FMA\n",
      "To enable them in other operations, rebuild TensorFlow with the appropriate compiler flags.\n",
      "2022-05-05 12:15:33.466997: I tensorflow/stream_executor/cuda/cuda_gpu_executor.cc:936] successful NUMA node read from SysFS had negative value (-1), but there must be at least one NUMA node, so returning NUMA node zero\n",
      "2022-05-05 12:15:33.467327: I tensorflow/stream_executor/cuda/cuda_gpu_executor.cc:936] successful NUMA node read from SysFS had negative value (-1), but there must be at least one NUMA node, so returning NUMA node zero\n",
      "2022-05-05 12:15:33.467587: I tensorflow/stream_executor/cuda/cuda_gpu_executor.cc:936] successful NUMA node read from SysFS had negative value (-1), but there must be at least one NUMA node, so returning NUMA node zero\n",
      "2022-05-05 12:15:33.865350: I tensorflow/stream_executor/cuda/cuda_gpu_executor.cc:936] successful NUMA node read from SysFS had negative value (-1), but there must be at least one NUMA node, so returning NUMA node zero\n",
      "2022-05-05 12:15:33.865802: I tensorflow/stream_executor/cuda/cuda_gpu_executor.cc:936] successful NUMA node read from SysFS had negative value (-1), but there must be at least one NUMA node, so returning NUMA node zero\n",
      "2022-05-05 12:15:33.866268: I tensorflow/stream_executor/cuda/cuda_gpu_executor.cc:936] successful NUMA node read from SysFS had negative value (-1), but there must be at least one NUMA node, so returning NUMA node zero\n",
      "2022-05-05 12:15:33.866649: I tensorflow/core/common_runtime/gpu/gpu_device.cc:1525] Created device /job:localhost/replica:0/task:0/device:GPU:0 with 6551 MB memory:  -> device: 0, name: NVIDIA GeForce GTX 1080, pci bus id: 0000:01:00.0, compute capability: 6.1\n"
     ]
    },
    {
     "data": {
      "text/plain": "<tfp.bijectors.Cubic_v2 'Cubic' batch_shape=[2] forward_min_event_ndims=0 inverse_min_event_ndims=0 dtype_x=? dtype_y=?>"
     },
     "execution_count": 4,
     "metadata": {},
     "output_type": "execute_result"
    }
   ],
   "source": [
    " # Cubic bijector\n",
    "cubic = Cubic_v2([1.0, -2.0], [-1.0, 0.4], validate_args=True)\n",
    "cubic"
   ],
   "metadata": {
    "collapsed": false,
    "pycharm": {
     "name": "#%%\n"
    }
   }
  },
  {
   "cell_type": "code",
   "execution_count": 5,
   "outputs": [
    {
     "data": {
      "text/plain": "TensorShape([2])"
     },
     "execution_count": 5,
     "metadata": {},
     "output_type": "execute_result"
    }
   ],
   "source": [
    "cubic.experimental_batch_shape()"
   ],
   "metadata": {
    "collapsed": false,
    "pycharm": {
     "name": "#%%\n"
    }
   }
  },
  {
   "cell_type": "code",
   "execution_count": 6,
   "outputs": [
    {
     "data": {
      "text/plain": "{'a': [1.0, -2.0], 'b': [-1.0, 0.4], 'validate_args': True, 'name': 'Cubic'}"
     },
     "execution_count": 6,
     "metadata": {},
     "output_type": "execute_result"
    }
   ],
   "source": [
    "cubic.get_params()"
   ],
   "metadata": {
    "collapsed": false,
    "pycharm": {
     "name": "#%%\n"
    }
   }
  },
  {
   "cell_type": "code",
   "execution_count": 7,
   "outputs": [
    {
     "data": {
      "text/plain": "{'a': ParameterProperties(event_ndims=0, event_ndims_tensor=0, shape_fn=<function ParameterProperties.<lambda> at 0x7ff86c41d160>, default_constraining_bijector_fn=<function _default_constraining_bijector_fn at 0x7ff86c418b80>, is_preferred=True, is_tensor=True, specifies_shape=False),\n 'b': ParameterProperties(event_ndims=0, event_ndims_tensor=0, shape_fn=<function ParameterProperties.<lambda> at 0x7ff86c41d160>, default_constraining_bijector_fn=<function _default_constraining_bijector_fn at 0x7ff86c418b80>, is_preferred=True, is_tensor=True, specifies_shape=False)}"
     },
     "execution_count": 7,
     "metadata": {},
     "output_type": "execute_result"
    }
   ],
   "source": [
    "# type(Cubic_v2._parameter_properties(None)['a'])\n",
    "Cubic_v2._parameter_properties(None)"
   ],
   "metadata": {
    "collapsed": false,
    "pycharm": {
     "name": "#%%\n"
    }
   }
  },
  {
   "cell_type": "markdown",
   "source": [
    " Cubic bijector\n",
    "cubic = Cubic([1.0, -2.0], [-1.0, 0.4], validate_args=True)"
   ],
   "metadata": {
    "collapsed": false,
    "pycharm": {
     "name": "#%% md\n"
    }
   }
  },
  {
   "cell_type": "code",
   "execution_count": 8,
   "outputs": [
    {
     "data": {
      "text/plain": "<tfp.distributions.Normal 'Normal' batch_shape=[] event_shape=[] dtype=float32>"
     },
     "metadata": {},
     "output_type": "display_data"
    },
    {
     "data": {
      "text/plain": "<tfp.distributions._TransformedDistribution 'CubicNormal' batch_shape=[2] event_shape=[] dtype=float32>"
     },
     "execution_count": 8,
     "metadata": {},
     "output_type": "execute_result"
    }
   ],
   "source": [
    "normal = tfd.Normal(loc=0., scale=1.)\n",
    "display(normal)\n",
    "# cubed_normal = tfd.TransformedDistribution(normal, cubic, event_shape=[2])\n",
    "cubed_normal = tfd.TransformedDistribution(normal, cubic, )\n",
    "cubed_normal"
   ],
   "metadata": {
    "collapsed": false,
    "pycharm": {
     "name": "#%%\n"
    }
   }
  },
  {
   "cell_type": "code",
   "execution_count": 9,
   "outputs": [],
   "source": [
    "# cubic.experimental_batch_shape(x_event_ndims=tf.rank(normal.event_shape))"
   ],
   "metadata": {
    "collapsed": false,
    "pycharm": {
     "name": "#%%\n"
    }
   }
  },
  {
   "cell_type": "code",
   "execution_count": 10,
   "outputs": [
    {
     "data": {
      "text/plain": "<tf.Tensor: shape=(1000, 2), dtype=float32, numpy=\narray([[-2.7032084e+00, -2.0008944e+01],\n       [-5.8265312e-05,  2.1414256e+00],\n       [-5.6209784e+00,  4.6360178e+00],\n       ...,\n       [-1.9317460e-01,  5.7188695e-04],\n       [-4.6160970e+00, -5.2850485e-01],\n       [-6.4068884e-01,  3.3126515e-01]], dtype=float32)>"
     },
     "metadata": {},
     "output_type": "display_data"
    },
    {
     "data": {
      "text/plain": "TensorShape([1000, 2])"
     },
     "execution_count": 10,
     "metadata": {},
     "output_type": "execute_result"
    }
   ],
   "source": [
    "# Sample cubed_normal\n",
    "n =1000\n",
    "g = cubed_normal.sample(n)\n",
    "display(g)\n",
    "g.shape"
   ],
   "metadata": {
    "collapsed": false,
    "pycharm": {
     "name": "#%%\n"
    }
   }
  },
  {
   "cell_type": "code",
   "execution_count": 32,
   "outputs": [
    {
     "data": {
      "text/plain": "<tf.Tensor: shape=(1000, 2), dtype=float32, numpy=\narray([[6.3434601e-02, 2.6827427e-03],\n       [5.5745773e+01, 3.6256962e-02],\n       [3.1079268e-02, 1.9563949e-02],\n       ...,\n       [3.6405352e-01, 9.5300913e+00],\n       [3.8450237e-02, 8.4743753e-02],\n       [1.7723939e-01, 1.3740903e-01]], dtype=float32)>"
     },
     "execution_count": 32,
     "metadata": {},
     "output_type": "execute_result"
    }
   ],
   "source": [
    "cubed_normal.prob(g)"
   ],
   "metadata": {
    "collapsed": false,
    "pycharm": {
     "name": "#%%\n"
    }
   }
  },
  {
   "cell_type": "code",
   "execution_count": 11,
   "outputs": [],
   "source": [
    "# # Sample cubed_normal\n",
    "# n =(1000,2)\n",
    "# g = cubed_normal.sample(n)\n",
    "# display(g)\n",
    "# g.shape"
   ],
   "metadata": {
    "collapsed": false,
    "pycharm": {
     "name": "#%%\n"
    }
   }
  },
  {
   "cell_type": "code",
   "execution_count": 12,
   "outputs": [
    {
     "data": {
      "text/plain": "<Figure size 864x288 with 2 Axes>",
      "image/png": "[encoded data removed]"
     },
     "metadata": {
      "needs_background": "light"
     },
     "output_type": "display_data"
    }
   ],
   "source": [
    "# Plot histograms\n",
    "plt.figure(figsize=[12,4])\n",
    "plt.subplot(1,2,1)\n",
    "plt.hist(g.numpy()[...,0], bins=50, density=True)\n",
    "plt.subplot(1,2,2)\n",
    "plt.hist(g.numpy()[...,1], bins=50, density=True)\n",
    "plt.show()"
   ],
   "metadata": {
    "collapsed": false,
    "pycharm": {
     "name": "#%%\n"
    }
   }
  },
  {
   "cell_type": "code",
   "execution_count": 12,
   "outputs": [],
   "source": [],
   "metadata": {
    "collapsed": false,
    "pycharm": {
     "name": "#%%\n"
    }
   }
  },
  {
   "cell_type": "code",
   "execution_count": 13,
   "outputs": [
    {
     "data": {
      "text/plain": "<tfp.distributions.TransformedDistribution 'BatchNormalTransformedDistribution' batch_shape=[3] event_shape=[] dtype=float32>"
     },
     "execution_count": 13,
     "metadata": {},
     "output_type": "execute_result"
    }
   ],
   "source": [
    "batch_normal = tfd.TransformedDistribution(\n",
    "    distribution=tfd.Normal(loc=0., scale=1.),\n",
    "    bijector=tfb.Shift(shift=[-1., 0., 1.]),\n",
    "    name='BatchNormalTransformedDistribution')\n",
    "batch_normal"
   ],
   "metadata": {
    "collapsed": false,
    "pycharm": {
     "name": "#%%\n"
    }
   }
  },
  {
   "cell_type": "code",
   "execution_count": 14,
   "outputs": [
    {
     "data": {
      "text/plain": "<tf.Tensor: shape=(10, 3), dtype=float32, numpy=\narray([[ 0.25720274, -0.06280545,  1.5860382 ],\n       [ 0.47126198, -0.89730376, -1.091572  ],\n       [ 0.11318982,  1.7209656 ,  0.94327974],\n       [-1.5695825 , -1.1327053 ,  1.1097294 ],\n       [ 0.67787385, -0.04801853,  2.16336   ],\n       [-1.1844294 ,  1.6160736 ,  0.69356036],\n       [-1.8153564 , -2.1969466 , -0.05530012],\n       [-0.39195025, -0.13823397,  0.4465456 ],\n       [-0.3971541 , -0.65763324,  1.0050156 ],\n       [-0.6097499 , -0.96462816,  1.4122003 ]], dtype=float32)>"
     },
     "execution_count": 14,
     "metadata": {},
     "output_type": "execute_result"
    }
   ],
   "source": [
    "batch_normal.sample(10)"
   ],
   "metadata": {
    "collapsed": false,
    "pycharm": {
     "name": "#%%\n"
    }
   }
  },
  {
   "cell_type": "code",
   "execution_count": 34,
   "outputs": [
    {
     "data": {
      "text/plain": "((100, 100), (100, 100))"
     },
     "execution_count": 34,
     "metadata": {},
     "output_type": "execute_result"
    }
   ],
   "source": [
    "xx = np.linspace(-0.5,0.5,100)\n",
    "yy = np.linspace(-0.5,0.5,100)\n",
    "X,Y = np.meshgrid(xx,yy)\n",
    "X.shape, Y.shape"
   ],
   "metadata": {
    "collapsed": false,
    "pycharm": {
     "name": "#%%\n"
    }
   }
  },
  {
   "cell_type": "code",
   "execution_count": 16,
   "outputs": [
    {
     "data": {
      "text/plain": "(100, 100, 2)"
     },
     "execution_count": 16,
     "metadata": {},
     "output_type": "execute_result"
    }
   ],
   "source": [
    "np.dstack((X, Y)).shape"
   ],
   "metadata": {
    "collapsed": false,
    "pycharm": {
     "name": "#%%\n"
    }
   }
  },
  {
   "cell_type": "code",
   "execution_count": 36,
   "outputs": [
    {
     "data": {
      "text/plain": "(100, 100, 2)"
     },
     "execution_count": 36,
     "metadata": {},
     "output_type": "execute_result"
    }
   ],
   "source": [
    "np.dstack((X, Y)).shape"
   ],
   "metadata": {
    "collapsed": false,
    "pycharm": {
     "name": "#%%\n"
    }
   }
  },
  {
   "cell_type": "code",
   "execution_count": 46,
   "outputs": [
    {
     "data": {
      "text/plain": "<Figure size 432x288 with 2 Axes>",
      "image/png": "[encoded data removed]"
     },
     "metadata": {
      "needs_background": "light"
     },
     "output_type": "display_data"
    }
   ],
   "source": [
    "fig, ax = plt.subplots(1,1)\n",
    "Z = cubed_normal.prob(np.dstack((X, Y)))\n",
    "cp = ax.contourf(X, Y, tf.multiply(Z[:,:,0], Z[:,:,1]))\n",
    "fig.colorbar(cp)\n",
    "ax.set_title('Filled Contours Plot')\n",
    "ax.set_xlabel('x')\n",
    "ax.set_ylabel('y')\n",
    "plt.show()"
   ],
   "metadata": {
    "collapsed": false,
    "pycharm": {
     "name": "#%%\n"
    }
   }
  },
  {
   "cell_type": "code",
   "execution_count": 46,
   "outputs": [],
   "source": [],
   "metadata": {
    "collapsed": false,
    "pycharm": {
     "name": "#%%\n"
    }
   }
  },
  {
   "cell_type": "code",
   "execution_count": null,
   "outputs": [],
   "source": [],
   "metadata": {
    "collapsed": false,
    "pycharm": {
     "name": "#%%\n"
    }
   }
  }
 ],
 "metadata": {
  "kernelspec": {
   "display_name": "Python 3 (ipykernel)",
   "language": "python",
   "name": "python3"
  },
  "language_info": {
   "codemirror_mode": {
    "name": "ipython",
    "version": 3
   },
   "file_extension": ".py",
   "mimetype": "text/x-python",
   "name": "python",
   "nbconvert_exporter": "python",
   "pygments_lexer": "ipython3",
   "version": "3.8.13"
  }
 },
 "nbformat": 4,
 "nbformat_minor": 4
}